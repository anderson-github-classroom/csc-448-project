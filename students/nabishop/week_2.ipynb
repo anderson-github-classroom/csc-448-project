{
 "cells": [
  {
   "cell_type": "markdown",
   "metadata": {},
   "source": [
    "# Week 2\n",
    "##### This week I will create Phylogenetic trees to analyze Covid-19."
   ]
  },
  {
   "cell_type": "markdown",
   "metadata": {},
   "source": [
    "## Step One: Get and Align The Data\n",
    "##### Following what my Instructor put in his guide, I downloaded sequence data from the Covid-19 Galaxy Project and used Virulign (found <a href=\"https://github.com/rega-cev/virulign-tutorial\">here</a>) to align the downloaded information."
   ]
  },
  {
   "cell_type": "code",
   "execution_count": 2,
   "metadata": {},
   "outputs": [
    {
     "data": {
      "text/plain": [
       "'./data/current_complete_ncov_genomes.fasta'"
      ]
     },
     "execution_count": 2,
     "metadata": {},
     "output_type": "execute_result"
    }
   ],
   "source": [
    "import wget\n",
    "\n",
    "url = 'https://covid19.galaxyproject.org/genomics/4-Variation/current_complete_ncov_genomes.fasta'\n",
    "file = './data/current_complete_ncov_genomes.fasta'\n",
    "wget.download(url, file)"
   ]
  },
  {
   "cell_type": "markdown",
   "metadata": {},
   "source": [
    "Then, using a locally downloaded executable of Virulign, I ran the following command to align the sequence information. Which is available <a href=\"\">here</a>."
   ]
  },
  {
   "cell_type": "markdown",
   "metadata": {},
   "source": [
    "./virulign ./data/current_complete_ncov_genomes.fasta --exportAlphabet Nucleotides --exportKind PositionTable > ./position_table.csv"
   ]
  },
  {
   "cell_type": "code",
   "execution_count": null,
   "metadata": {},
   "outputs": [],
   "source": []
  }
 ],
 "metadata": {
  "kernelspec": {
   "display_name": "Python 3",
   "language": "python",
   "name": "python3"
  },
  "language_info": {
   "codemirror_mode": {
    "name": "ipython",
    "version": 3
   },
   "file_extension": ".py",
   "mimetype": "text/x-python",
   "name": "python",
   "nbconvert_exporter": "python",
   "pygments_lexer": "ipython3",
   "version": "3.7.6"
  }
 },
 "nbformat": 4,
 "nbformat_minor": 4
}
