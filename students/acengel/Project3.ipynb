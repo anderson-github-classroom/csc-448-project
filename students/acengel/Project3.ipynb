{
 "cells": [
  {
   "cell_type": "markdown",
   "metadata": {},
   "source": [
    "# Project: Week 3"
   ]
  },
  {
   "cell_type": "markdown",
   "metadata": {},
   "source": [
    "This week, I continued my approach from last week.  I wanted to investigate - once COVID-19 got into the US, how did it initially spread?"
   ]
  },
  {
   "cell_type": "markdown",
   "metadata": {},
   "source": [
    "## Import Stuff"
   ]
  },
  {
   "cell_type": "code",
   "execution_count": 1,
   "metadata": {},
   "outputs": [
    {
     "name": "stdout",
     "output_type": "stream",
     "text": [
      "Requirement already satisfied: biopython in c:\\users\\alex\\anaconda3\\lib\\site-packages (1.76)\n",
      "Requirement already satisfied: numpy in c:\\users\\alex\\anaconda3\\lib\\site-packages (from biopython) (1.18.1)\n"
     ]
    }
   ],
   "source": [
    "!pip install biopython"
   ]
  },
  {
   "cell_type": "code",
   "execution_count": 2,
   "metadata": {},
   "outputs": [],
   "source": [
    "import pandas as pd\n",
    "import numpy as np\n",
    "import yaml\n",
    "import urllib\n",
    "from Bio.Phylo.TreeConstruction import DistanceMatrix\n",
    "from Bio.Phylo.TreeConstruction import DistanceTreeConstructor\n",
    "from Bio import Phylo\n",
    "import matplotlib\n",
    "import random\n",
    "import matplotlib.pylab as plt\n",
    "import matplotlib.patches as mpatches"
   ]
  },
  {
   "cell_type": "code",
   "execution_count": 3,
   "metadata": {},
   "outputs": [],
   "source": [
    "%matplotlib inline"
   ]
  },
  {
   "cell_type": "markdown",
   "metadata": {},
   "source": [
    "## Get Given Data - aligned sequences"
   ]
  },
  {
   "cell_type": "markdown",
   "metadata": {},
   "source": [
    "Once again, I started with the data given by my professor.  Below is a table of all of the COVID-19 genomes made available by the galaxy project.  Specifically, this table contains the aligned sequences corresponding to the spike protein."
   ]
  },
  {
   "cell_type": "code",
   "execution_count": 4,
   "metadata": {},
   "outputs": [],
   "source": [
    "position_table = pd.read_csv('../../data/position_table.csv')"
   ]
  },
  {
   "cell_type": "code",
   "execution_count": 5,
   "metadata": {},
   "outputs": [
    {
     "data": {
      "text/html": [
       "<div>\n",
       "<style scoped>\n",
       "    .dataframe tbody tr th:only-of-type {\n",
       "        vertical-align: middle;\n",
       "    }\n",
       "\n",
       "    .dataframe tbody tr th {\n",
       "        vertical-align: top;\n",
       "    }\n",
       "\n",
       "    .dataframe thead th {\n",
       "        text-align: right;\n",
       "    }\n",
       "</style>\n",
       "<table border=\"1\" class=\"dataframe\">\n",
       "  <thead>\n",
       "    <tr style=\"text-align: right;\">\n",
       "      <th></th>\n",
       "      <th>seqid</th>\n",
       "      <th>S_1_1</th>\n",
       "      <th>S_1_2</th>\n",
       "      <th>S_1_3</th>\n",
       "      <th>S_2_1</th>\n",
       "      <th>S_2_2</th>\n",
       "      <th>S_2_3</th>\n",
       "      <th>S_3_1</th>\n",
       "      <th>S_3_2</th>\n",
       "      <th>S_3_3</th>\n",
       "      <th>...</th>\n",
       "      <th>S_1270_3</th>\n",
       "      <th>S_1271_1</th>\n",
       "      <th>S_1271_2</th>\n",
       "      <th>S_1271_3</th>\n",
       "      <th>S_1272_1</th>\n",
       "      <th>S_1272_2</th>\n",
       "      <th>S_1272_3</th>\n",
       "      <th>S_1273_1</th>\n",
       "      <th>S_1273_2</th>\n",
       "      <th>S_1273_3</th>\n",
       "    </tr>\n",
       "  </thead>\n",
       "  <tbody>\n",
       "    <tr>\n",
       "      <th>0</th>\n",
       "      <td>MT007544.1</td>\n",
       "      <td>A</td>\n",
       "      <td>T</td>\n",
       "      <td>G</td>\n",
       "      <td>T</td>\n",
       "      <td>T</td>\n",
       "      <td>T</td>\n",
       "      <td>G</td>\n",
       "      <td>T</td>\n",
       "      <td>T</td>\n",
       "      <td>...</td>\n",
       "      <td>A</td>\n",
       "      <td>C</td>\n",
       "      <td>A</td>\n",
       "      <td>T</td>\n",
       "      <td>T</td>\n",
       "      <td>A</td>\n",
       "      <td>C</td>\n",
       "      <td>A</td>\n",
       "      <td>C</td>\n",
       "      <td>A</td>\n",
       "    </tr>\n",
       "    <tr>\n",
       "      <th>1</th>\n",
       "      <td>MT019529.1</td>\n",
       "      <td>A</td>\n",
       "      <td>T</td>\n",
       "      <td>G</td>\n",
       "      <td>T</td>\n",
       "      <td>T</td>\n",
       "      <td>T</td>\n",
       "      <td>G</td>\n",
       "      <td>T</td>\n",
       "      <td>T</td>\n",
       "      <td>...</td>\n",
       "      <td>A</td>\n",
       "      <td>C</td>\n",
       "      <td>A</td>\n",
       "      <td>T</td>\n",
       "      <td>T</td>\n",
       "      <td>A</td>\n",
       "      <td>C</td>\n",
       "      <td>A</td>\n",
       "      <td>C</td>\n",
       "      <td>A</td>\n",
       "    </tr>\n",
       "    <tr>\n",
       "      <th>2</th>\n",
       "      <td>MT019530.1</td>\n",
       "      <td>A</td>\n",
       "      <td>T</td>\n",
       "      <td>G</td>\n",
       "      <td>T</td>\n",
       "      <td>T</td>\n",
       "      <td>T</td>\n",
       "      <td>G</td>\n",
       "      <td>T</td>\n",
       "      <td>T</td>\n",
       "      <td>...</td>\n",
       "      <td>A</td>\n",
       "      <td>C</td>\n",
       "      <td>A</td>\n",
       "      <td>T</td>\n",
       "      <td>T</td>\n",
       "      <td>A</td>\n",
       "      <td>C</td>\n",
       "      <td>A</td>\n",
       "      <td>C</td>\n",
       "      <td>A</td>\n",
       "    </tr>\n",
       "    <tr>\n",
       "      <th>3</th>\n",
       "      <td>MT019531.1</td>\n",
       "      <td>A</td>\n",
       "      <td>T</td>\n",
       "      <td>G</td>\n",
       "      <td>T</td>\n",
       "      <td>T</td>\n",
       "      <td>T</td>\n",
       "      <td>G</td>\n",
       "      <td>T</td>\n",
       "      <td>T</td>\n",
       "      <td>...</td>\n",
       "      <td>A</td>\n",
       "      <td>C</td>\n",
       "      <td>A</td>\n",
       "      <td>T</td>\n",
       "      <td>T</td>\n",
       "      <td>A</td>\n",
       "      <td>C</td>\n",
       "      <td>A</td>\n",
       "      <td>C</td>\n",
       "      <td>A</td>\n",
       "    </tr>\n",
       "    <tr>\n",
       "      <th>4</th>\n",
       "      <td>MT019532.1</td>\n",
       "      <td>A</td>\n",
       "      <td>T</td>\n",
       "      <td>G</td>\n",
       "      <td>T</td>\n",
       "      <td>T</td>\n",
       "      <td>T</td>\n",
       "      <td>G</td>\n",
       "      <td>T</td>\n",
       "      <td>T</td>\n",
       "      <td>...</td>\n",
       "      <td>A</td>\n",
       "      <td>C</td>\n",
       "      <td>A</td>\n",
       "      <td>T</td>\n",
       "      <td>T</td>\n",
       "      <td>A</td>\n",
       "      <td>C</td>\n",
       "      <td>A</td>\n",
       "      <td>C</td>\n",
       "      <td>A</td>\n",
       "    </tr>\n",
       "    <tr>\n",
       "      <th>...</th>\n",
       "      <td>...</td>\n",
       "      <td>...</td>\n",
       "      <td>...</td>\n",
       "      <td>...</td>\n",
       "      <td>...</td>\n",
       "      <td>...</td>\n",
       "      <td>...</td>\n",
       "      <td>...</td>\n",
       "      <td>...</td>\n",
       "      <td>...</td>\n",
       "      <td>...</td>\n",
       "      <td>...</td>\n",
       "      <td>...</td>\n",
       "      <td>...</td>\n",
       "      <td>...</td>\n",
       "      <td>...</td>\n",
       "      <td>...</td>\n",
       "      <td>...</td>\n",
       "      <td>...</td>\n",
       "      <td>...</td>\n",
       "      <td>...</td>\n",
       "    </tr>\n",
       "    <tr>\n",
       "      <th>672</th>\n",
       "      <td>MT334544.1</td>\n",
       "      <td>A</td>\n",
       "      <td>T</td>\n",
       "      <td>G</td>\n",
       "      <td>T</td>\n",
       "      <td>T</td>\n",
       "      <td>T</td>\n",
       "      <td>G</td>\n",
       "      <td>T</td>\n",
       "      <td>T</td>\n",
       "      <td>...</td>\n",
       "      <td>A</td>\n",
       "      <td>C</td>\n",
       "      <td>A</td>\n",
       "      <td>T</td>\n",
       "      <td>T</td>\n",
       "      <td>A</td>\n",
       "      <td>C</td>\n",
       "      <td>A</td>\n",
       "      <td>C</td>\n",
       "      <td>A</td>\n",
       "    </tr>\n",
       "    <tr>\n",
       "      <th>673</th>\n",
       "      <td>MT334546.1</td>\n",
       "      <td>A</td>\n",
       "      <td>T</td>\n",
       "      <td>G</td>\n",
       "      <td>T</td>\n",
       "      <td>T</td>\n",
       "      <td>T</td>\n",
       "      <td>G</td>\n",
       "      <td>T</td>\n",
       "      <td>T</td>\n",
       "      <td>...</td>\n",
       "      <td>A</td>\n",
       "      <td>C</td>\n",
       "      <td>A</td>\n",
       "      <td>T</td>\n",
       "      <td>T</td>\n",
       "      <td>A</td>\n",
       "      <td>C</td>\n",
       "      <td>A</td>\n",
       "      <td>C</td>\n",
       "      <td>A</td>\n",
       "    </tr>\n",
       "    <tr>\n",
       "      <th>674</th>\n",
       "      <td>MT334547.1</td>\n",
       "      <td>A</td>\n",
       "      <td>T</td>\n",
       "      <td>G</td>\n",
       "      <td>T</td>\n",
       "      <td>T</td>\n",
       "      <td>T</td>\n",
       "      <td>G</td>\n",
       "      <td>T</td>\n",
       "      <td>T</td>\n",
       "      <td>...</td>\n",
       "      <td>A</td>\n",
       "      <td>C</td>\n",
       "      <td>A</td>\n",
       "      <td>T</td>\n",
       "      <td>T</td>\n",
       "      <td>A</td>\n",
       "      <td>C</td>\n",
       "      <td>A</td>\n",
       "      <td>C</td>\n",
       "      <td>A</td>\n",
       "    </tr>\n",
       "    <tr>\n",
       "      <th>675</th>\n",
       "      <td>MT334557.1</td>\n",
       "      <td>A</td>\n",
       "      <td>T</td>\n",
       "      <td>G</td>\n",
       "      <td>T</td>\n",
       "      <td>T</td>\n",
       "      <td>T</td>\n",
       "      <td>G</td>\n",
       "      <td>T</td>\n",
       "      <td>T</td>\n",
       "      <td>...</td>\n",
       "      <td>A</td>\n",
       "      <td>C</td>\n",
       "      <td>A</td>\n",
       "      <td>T</td>\n",
       "      <td>T</td>\n",
       "      <td>A</td>\n",
       "      <td>C</td>\n",
       "      <td>A</td>\n",
       "      <td>C</td>\n",
       "      <td>A</td>\n",
       "    </tr>\n",
       "    <tr>\n",
       "      <th>676</th>\n",
       "      <td>MT334561.1</td>\n",
       "      <td>A</td>\n",
       "      <td>T</td>\n",
       "      <td>G</td>\n",
       "      <td>T</td>\n",
       "      <td>T</td>\n",
       "      <td>T</td>\n",
       "      <td>G</td>\n",
       "      <td>T</td>\n",
       "      <td>T</td>\n",
       "      <td>...</td>\n",
       "      <td>A</td>\n",
       "      <td>C</td>\n",
       "      <td>A</td>\n",
       "      <td>T</td>\n",
       "      <td>T</td>\n",
       "      <td>A</td>\n",
       "      <td>C</td>\n",
       "      <td>A</td>\n",
       "      <td>C</td>\n",
       "      <td>A</td>\n",
       "    </tr>\n",
       "  </tbody>\n",
       "</table>\n",
       "<p>677 rows × 3820 columns</p>\n",
       "</div>"
      ],
      "text/plain": [
       "          seqid S_1_1 S_1_2 S_1_3 S_2_1 S_2_2 S_2_3 S_3_1 S_3_2 S_3_3  ...  \\\n",
       "0    MT007544.1     A     T     G     T     T     T     G     T     T  ...   \n",
       "1    MT019529.1     A     T     G     T     T     T     G     T     T  ...   \n",
       "2    MT019530.1     A     T     G     T     T     T     G     T     T  ...   \n",
       "3    MT019531.1     A     T     G     T     T     T     G     T     T  ...   \n",
       "4    MT019532.1     A     T     G     T     T     T     G     T     T  ...   \n",
       "..          ...   ...   ...   ...   ...   ...   ...   ...   ...   ...  ...   \n",
       "672  MT334544.1     A     T     G     T     T     T     G     T     T  ...   \n",
       "673  MT334546.1     A     T     G     T     T     T     G     T     T  ...   \n",
       "674  MT334547.1     A     T     G     T     T     T     G     T     T  ...   \n",
       "675  MT334557.1     A     T     G     T     T     T     G     T     T  ...   \n",
       "676  MT334561.1     A     T     G     T     T     T     G     T     T  ...   \n",
       "\n",
       "    S_1270_3 S_1271_1 S_1271_2 S_1271_3 S_1272_1 S_1272_2 S_1272_3 S_1273_1  \\\n",
       "0          A        C        A        T        T        A        C        A   \n",
       "1          A        C        A        T        T        A        C        A   \n",
       "2          A        C        A        T        T        A        C        A   \n",
       "3          A        C        A        T        T        A        C        A   \n",
       "4          A        C        A        T        T        A        C        A   \n",
       "..       ...      ...      ...      ...      ...      ...      ...      ...   \n",
       "672        A        C        A        T        T        A        C        A   \n",
       "673        A        C        A        T        T        A        C        A   \n",
       "674        A        C        A        T        T        A        C        A   \n",
       "675        A        C        A        T        T        A        C        A   \n",
       "676        A        C        A        T        T        A        C        A   \n",
       "\n",
       "    S_1273_2 S_1273_3  \n",
       "0          C        A  \n",
       "1          C        A  \n",
       "2          C        A  \n",
       "3          C        A  \n",
       "4          C        A  \n",
       "..       ...      ...  \n",
       "672        C        A  \n",
       "673        C        A  \n",
       "674        C        A  \n",
       "675        C        A  \n",
       "676        C        A  \n",
       "\n",
       "[677 rows x 3820 columns]"
      ]
     },
     "execution_count": 5,
     "metadata": {},
     "output_type": "execute_result"
    }
   ],
   "source": [
    "position_table"
   ]
  },
  {
   "cell_type": "markdown",
   "metadata": {},
   "source": [
    "## Get location and date data"
   ]
  },
  {
   "cell_type": "markdown",
   "metadata": {},
   "source": [
    "Last time, I wanted to get extra info about these genomes, like when and where the sample was taken.  \n",
    "After rooting around on the galaxy project website, I found a script called _fetch_sra_acc.sh_.  In this file, I found out that they get their data from the NCBI.  Specifically, they pull info on the genomes from a file called [ncov-sequences.yaml](https://www.ncbi.nlm.nih.gov/core/assets/genbank/files/ncov-sequences.yaml).  I loaded the data into a dictionary to look up in."
   ]
  },
  {
   "cell_type": "code",
   "execution_count": 6,
   "metadata": {},
   "outputs": [],
   "source": [
    "with urllib.request.urlopen(\"https://www.ncbi.nlm.nih.gov/core/assets/genbank/files/ncov-sequences.yaml\") as response:\n",
    "    text = response.read()"
   ]
  },
  {
   "cell_type": "code",
   "execution_count": 7,
   "metadata": {},
   "outputs": [
    {
     "name": "stderr",
     "output_type": "stream",
     "text": [
      "C:\\Users\\Alex\\anaconda3\\lib\\site-packages\\ipykernel_launcher.py:1: YAMLLoadWarning: calling yaml.load() without Loader=... is deprecated, as the default Loader is unsafe. Please read https://msg.pyyaml.org/load for full details.\n",
      "  \"\"\"Entry point for launching an IPython kernel.\n"
     ]
    }
   ],
   "source": [
    "lookup = yaml.load(text)"
   ]
  },
  {
   "cell_type": "code",
   "execution_count": 8,
   "metadata": {},
   "outputs": [],
   "source": [
    "name_to_description = {}\n",
    "\n",
    "for description in lookup[\"genbank-sequences\"]:\n",
    "    name = description[\"accession\"]\n",
    "    name_to_description[name] = description"
   ]
  },
  {
   "cell_type": "markdown",
   "metadata": {},
   "source": [
    "## Combine Data"
   ]
  },
  {
   "cell_type": "markdown",
   "metadata": {},
   "source": [
    "Next, I swept over my genome table to add the extra location and date info.  They changed their format since last time I used the data, so I had to update my code."
   ]
  },
  {
   "cell_type": "code",
   "execution_count": 9,
   "metadata": {},
   "outputs": [],
   "source": [
    "position_table[\"name\"] = position_table[\"seqid\"].str.replace(\"\\.\\d\", \"\")"
   ]
  },
  {
   "cell_type": "code",
   "execution_count": 85,
   "metadata": {},
   "outputs": [
    {
     "data": {
      "text/plain": [
       "(0, 169)"
      ]
     },
     "execution_count": 85,
     "metadata": {},
     "output_type": "execute_result"
    }
   ],
   "source": [
    "def get_location(name):\n",
    "    if name in name_to_description:\n",
    "        description = name_to_description[name]\n",
    "        location = description[\"country\"]\n",
    "        splits = [fragment.strip() for fragment in location.split(\":\")]\n",
    "        country = splits[0]\n",
    "        state = \"\".join(splits[1:])\n",
    "        if state == \"\":\n",
    "            state = np.nan\n",
    "        \n",
    "        return country, state\n",
    "    else:\n",
    "        return np.nan\n",
    "\n",
    "position_table[\"country\"], position_table[\"state\"] = zip(*position_table[\"name\"].apply(get_location))\n",
    "position_table[\"country\"].isna().sum(), position_table[\"state\"].isna().sum()"
   ]
  },
  {
   "cell_type": "code",
   "execution_count": 86,
   "metadata": {},
   "outputs": [
    {
     "data": {
      "text/plain": [
       "array(['Australia', 'China', 'USA', 'South Korea', 'Taiwan', 'Nepal',\n",
       "       'Sweden', 'Brazil', 'India', 'Italy', 'Viet Nam', 'Spain',\n",
       "       'Pakistan', 'Peru', 'Israel', 'France', 'Iran', 'South Africa',\n",
       "       'Turkey', 'Greece'], dtype=object)"
      ]
     },
     "execution_count": 86,
     "metadata": {},
     "output_type": "execute_result"
    }
   ],
   "source": [
    "position_table[\"country\"].unique()"
   ]
  },
  {
   "cell_type": "code",
   "execution_count": 87,
   "metadata": {},
   "outputs": [
    {
     "data": {
      "text/plain": [
       "array(['Victoria', 'Hubei, Wuhan', 'WA', 'CA', 'Hangzhou', 'WI', 'MA',\n",
       "       nan, 'IL', 'Yunnan', 'TX', 'Guangdong, Guangzhou', 'Guangzhou',\n",
       "       'Beijing', 'Snohomish County, WA', 'Kerala State', 'Shanghai',\n",
       "       'MN', 'CA, San Diego County', 'Ho Chi Minh city', 'Valencia',\n",
       "       'Gilgit', 'CT', 'Zhejiang, Hangzhou', 'San Francisco, CA', 'KPK',\n",
       "       'RI', 'GA', 'OR', 'FL', 'Anhui, Fuyang', 'Wuhan', 'North Carolina',\n",
       "       'AZ', 'NH', 'NY', 'MI', 'NC', 'VA', 'KwaZulu-Natal', 'DC', 'IA',\n",
       "       'IN', 'KS', 'LA', 'MD', 'MO', 'NE', 'NJ', 'NV', 'OH', 'PA', 'SC',\n",
       "       'UT'], dtype=object)"
      ]
     },
     "execution_count": 87,
     "metadata": {},
     "output_type": "execute_result"
    }
   ],
   "source": [
    "position_table[\"state\"].unique()"
   ]
  },
  {
   "cell_type": "markdown",
   "metadata": {},
   "source": [
    "Looks like all genomes have a country, but many don't have a state."
   ]
  },
  {
   "cell_type": "code",
   "execution_count": 65,
   "metadata": {},
   "outputs": [
    {
     "data": {
      "text/plain": [
       "0"
      ]
     },
     "execution_count": 65,
     "metadata": {},
     "output_type": "execute_result"
    }
   ],
   "source": [
    "def get_date(name):\n",
    "    if name in name_to_description:\n",
    "        description = name_to_description[name]\n",
    "        date = description[\"collection_date\"]\n",
    "        return date\n",
    "    else:\n",
    "        return np.nan\n",
    "\n",
    "position_table[\"date\"] = position_table[\"name\"].apply(get_date)\n",
    "position_table[\"date\"].isna().sum()"
   ]
  },
  {
   "cell_type": "markdown",
   "metadata": {},
   "source": [
    "All of the genomes also have a date.  I had to get rid of one malformed date, though."
   ]
  },
  {
   "cell_type": "code",
   "execution_count": 66,
   "metadata": {},
   "outputs": [],
   "source": [
    "position_table = position_table[position_table[\"date\"] != \"2020\"]"
   ]
  },
  {
   "cell_type": "code",
   "execution_count": 67,
   "metadata": {},
   "outputs": [],
   "source": [
    "position_table[\"date\"] = pd.to_datetime(position_table[\"date\"])"
   ]
  },
  {
   "cell_type": "code",
   "execution_count": null,
   "metadata": {},
   "outputs": [],
   "source": []
  },
  {
   "cell_type": "code",
   "execution_count": null,
   "metadata": {},
   "outputs": [],
   "source": []
  },
  {
   "cell_type": "markdown",
   "metadata": {},
   "source": [
    "## Problem and Sequence Selection"
   ]
  },
  {
   "cell_type": "markdown",
   "metadata": {},
   "source": [
    "I wanted to take a look at how COVID-19 started spreading inside the US.  To do this, I selected the first 100 recorded COVID-19 genomes in the US (by date)."
   ]
  },
  {
   "cell_type": "code",
   "execution_count": 70,
   "metadata": {},
   "outputs": [],
   "source": [
    "position_table = position_table.set_index(\"seqid\")"
   ]
  },
  {
   "cell_type": "code",
   "execution_count": 112,
   "metadata": {},
   "outputs": [
    {
     "data": {
      "text/plain": [
       "Index(['MT233526.1', 'MT246667.1', 'MT020880.1', 'MT020881.1', 'MT044258.1',\n",
       "       'MT044257.1', 'MT027062.1', 'MT027063.1', 'MT027064.1', 'MT039888.1',\n",
       "       'MT039887.1', 'MT106052.1', 'MT106053.1', 'MT106054.1', 'MT159705.1',\n",
       "       'MT159706.1', 'MT159707.1', 'MT159708.1', 'MT159710.1', 'MT159717.1',\n",
       "       'MT184911.1', 'MT184912.1', 'MT159713.1', 'MT159714.1', 'MT159718.1',\n",
       "       'MT159719.1', 'MT184907.1', 'MT184910.1', 'MT159709.1', 'MT159711.1',\n",
       "       'MT159720.1', 'MT159721.1', 'MT159722.1', 'MT184908.1', 'MT184909.1',\n",
       "       'MT118835.1', 'MT152824.1', 'MT159715.1', 'MT159716.1', 'MT184913.1',\n",
       "       'MT159712.1', 'MT276324.1', 'MT163716.1', 'MT276325.1', 'MT276328.1',\n",
       "       'MT163717.1', 'MT276323.1', 'MT276329.1', 'MT276330.1', 'MT163718.1',\n",
       "       'MT276326.1', 'MT276327.1', 'MT276331.1', 'MT304484.1', 'MT304489.1',\n",
       "       'MT163719.1', 'MT304482.1', 'MT304483.1', 'MT304487.1', 'MT304488.1',\n",
       "       'MT304490.1', 'MT304491.1', 'MT322394.1', 'MT322395.1', 'MT322396.1',\n",
       "       'MT322397.1', 'MT322398.1', 'MT322400.1', 'MT322401.1', 'MT322402.1',\n",
       "       'MT322403.1', 'MT322404.1', 'MT322405.1', 'MT322406.1', 'MT322407.1',\n",
       "       'MT322408.1', 'MT322409.1', 'MT322410.1', 'MT322411.1', 'MT322412.1',\n",
       "       'MT322413.1', 'MT322414.1', 'MT322415.1', 'MT322416.1', 'MT322417.1',\n",
       "       'MT322418.1', 'MT322419.1', 'MT322420.1', 'MT322421.1', 'MT322422.1',\n",
       "       'MT322423.1', 'MT322424.1', 'MT325571.1', 'MT325573.1', 'MT325574.1',\n",
       "       'MT304477.1', 'MT304478.1', 'MT304485.1', 'MT304486.1', 'MT325565.1'],\n",
       "      dtype='object', name='seqid')"
      ]
     },
     "execution_count": 112,
     "metadata": {},
     "output_type": "execute_result"
    }
   ],
   "source": [
    "subset_seqs = position_table[position_table.country == \"USA\"][\"date\"].nsmallest(100).index\n",
    "subset_seqs"
   ]
  },
  {
   "cell_type": "markdown",
   "metadata": {},
   "source": [
    "## Select our distance metric"
   ]
  },
  {
   "cell_type": "markdown",
   "metadata": {},
   "source": [
    "Next, I got a distance matrix among all of the selected sequences.  I decided to stick with a simple distance metric - just the number of differences between the two.  This seemed appropriate because the sequences were relatively short and well-aligned."
   ]
  },
  {
   "cell_type": "code",
   "execution_count": 113,
   "metadata": {},
   "outputs": [],
   "source": [
    "def get_distance(seq1, seq2):\n",
    "    return sum(seq1 != seq2)"
   ]
  },
  {
   "cell_type": "code",
   "execution_count": 114,
   "metadata": {},
   "outputs": [
    {
     "data": {
      "text/html": [
       "<div>\n",
       "<style scoped>\n",
       "    .dataframe tbody tr th:only-of-type {\n",
       "        vertical-align: middle;\n",
       "    }\n",
       "\n",
       "    .dataframe tbody tr th {\n",
       "        vertical-align: top;\n",
       "    }\n",
       "\n",
       "    .dataframe thead th {\n",
       "        text-align: right;\n",
       "    }\n",
       "</style>\n",
       "<table border=\"1\" class=\"dataframe\">\n",
       "  <thead>\n",
       "    <tr style=\"text-align: right;\">\n",
       "      <th></th>\n",
       "      <th>MT020880.1</th>\n",
       "      <th>MT020881.1</th>\n",
       "      <th>MT027062.1</th>\n",
       "      <th>MT027063.1</th>\n",
       "      <th>MT027064.1</th>\n",
       "      <th>MT039887.1</th>\n",
       "      <th>MT039888.1</th>\n",
       "      <th>MT044257.1</th>\n",
       "      <th>MT044258.1</th>\n",
       "      <th>MT106052.1</th>\n",
       "      <th>...</th>\n",
       "      <th>MT322419.1</th>\n",
       "      <th>MT322420.1</th>\n",
       "      <th>MT322421.1</th>\n",
       "      <th>MT322422.1</th>\n",
       "      <th>MT322423.1</th>\n",
       "      <th>MT322424.1</th>\n",
       "      <th>MT325565.1</th>\n",
       "      <th>MT325571.1</th>\n",
       "      <th>MT325573.1</th>\n",
       "      <th>MT325574.1</th>\n",
       "    </tr>\n",
       "  </thead>\n",
       "  <tbody>\n",
       "    <tr>\n",
       "      <th>MT020880.1</th>\n",
       "      <td>0</td>\n",
       "      <td>1</td>\n",
       "      <td>3</td>\n",
       "      <td>3</td>\n",
       "      <td>4</td>\n",
       "      <td>3</td>\n",
       "      <td>4</td>\n",
       "      <td>4</td>\n",
       "      <td>3</td>\n",
       "      <td>3</td>\n",
       "      <td>...</td>\n",
       "      <td>4</td>\n",
       "      <td>4</td>\n",
       "      <td>7</td>\n",
       "      <td>7</td>\n",
       "      <td>7</td>\n",
       "      <td>4</td>\n",
       "      <td>4</td>\n",
       "      <td>4</td>\n",
       "      <td>4</td>\n",
       "      <td>3</td>\n",
       "    </tr>\n",
       "    <tr>\n",
       "      <th>MT020881.1</th>\n",
       "      <td>1</td>\n",
       "      <td>0</td>\n",
       "      <td>3</td>\n",
       "      <td>3</td>\n",
       "      <td>4</td>\n",
       "      <td>3</td>\n",
       "      <td>4</td>\n",
       "      <td>4</td>\n",
       "      <td>3</td>\n",
       "      <td>3</td>\n",
       "      <td>...</td>\n",
       "      <td>4</td>\n",
       "      <td>4</td>\n",
       "      <td>7</td>\n",
       "      <td>7</td>\n",
       "      <td>7</td>\n",
       "      <td>4</td>\n",
       "      <td>4</td>\n",
       "      <td>4</td>\n",
       "      <td>4</td>\n",
       "      <td>3</td>\n",
       "    </tr>\n",
       "    <tr>\n",
       "      <th>MT027062.1</th>\n",
       "      <td>3</td>\n",
       "      <td>3</td>\n",
       "      <td>0</td>\n",
       "      <td>1</td>\n",
       "      <td>2</td>\n",
       "      <td>3</td>\n",
       "      <td>3</td>\n",
       "      <td>4</td>\n",
       "      <td>2</td>\n",
       "      <td>2</td>\n",
       "      <td>...</td>\n",
       "      <td>4</td>\n",
       "      <td>4</td>\n",
       "      <td>7</td>\n",
       "      <td>7</td>\n",
       "      <td>7</td>\n",
       "      <td>4</td>\n",
       "      <td>4</td>\n",
       "      <td>4</td>\n",
       "      <td>4</td>\n",
       "      <td>3</td>\n",
       "    </tr>\n",
       "    <tr>\n",
       "      <th>MT027063.1</th>\n",
       "      <td>3</td>\n",
       "      <td>3</td>\n",
       "      <td>1</td>\n",
       "      <td>0</td>\n",
       "      <td>2</td>\n",
       "      <td>3</td>\n",
       "      <td>3</td>\n",
       "      <td>4</td>\n",
       "      <td>2</td>\n",
       "      <td>2</td>\n",
       "      <td>...</td>\n",
       "      <td>4</td>\n",
       "      <td>4</td>\n",
       "      <td>7</td>\n",
       "      <td>7</td>\n",
       "      <td>7</td>\n",
       "      <td>4</td>\n",
       "      <td>4</td>\n",
       "      <td>4</td>\n",
       "      <td>4</td>\n",
       "      <td>3</td>\n",
       "    </tr>\n",
       "    <tr>\n",
       "      <th>MT027064.1</th>\n",
       "      <td>4</td>\n",
       "      <td>4</td>\n",
       "      <td>2</td>\n",
       "      <td>2</td>\n",
       "      <td>0</td>\n",
       "      <td>4</td>\n",
       "      <td>4</td>\n",
       "      <td>5</td>\n",
       "      <td>3</td>\n",
       "      <td>3</td>\n",
       "      <td>...</td>\n",
       "      <td>5</td>\n",
       "      <td>5</td>\n",
       "      <td>8</td>\n",
       "      <td>8</td>\n",
       "      <td>8</td>\n",
       "      <td>5</td>\n",
       "      <td>5</td>\n",
       "      <td>5</td>\n",
       "      <td>5</td>\n",
       "      <td>4</td>\n",
       "    </tr>\n",
       "  </tbody>\n",
       "</table>\n",
       "<p>5 rows × 100 columns</p>\n",
       "</div>"
      ],
      "text/plain": [
       "            MT020880.1  MT020881.1  MT027062.1  MT027063.1  MT027064.1  \\\n",
       "MT020880.1           0           1           3           3           4   \n",
       "MT020881.1           1           0           3           3           4   \n",
       "MT027062.1           3           3           0           1           2   \n",
       "MT027063.1           3           3           1           0           2   \n",
       "MT027064.1           4           4           2           2           0   \n",
       "\n",
       "            MT039887.1  MT039888.1  MT044257.1  MT044258.1  MT106052.1  ...  \\\n",
       "MT020880.1           3           4           4           3           3  ...   \n",
       "MT020881.1           3           4           4           3           3  ...   \n",
       "MT027062.1           3           3           4           2           2  ...   \n",
       "MT027063.1           3           3           4           2           2  ...   \n",
       "MT027064.1           4           4           5           3           3  ...   \n",
       "\n",
       "            MT322419.1  MT322420.1  MT322421.1  MT322422.1  MT322423.1  \\\n",
       "MT020880.1           4           4           7           7           7   \n",
       "MT020881.1           4           4           7           7           7   \n",
       "MT027062.1           4           4           7           7           7   \n",
       "MT027063.1           4           4           7           7           7   \n",
       "MT027064.1           5           5           8           8           8   \n",
       "\n",
       "            MT322424.1  MT325565.1  MT325571.1  MT325573.1  MT325574.1  \n",
       "MT020880.1           4           4           4           4           3  \n",
       "MT020881.1           4           4           4           4           3  \n",
       "MT027062.1           4           4           4           4           3  \n",
       "MT027063.1           4           4           4           4           3  \n",
       "MT027064.1           5           5           5           5           4  \n",
       "\n",
       "[5 rows x 100 columns]"
      ]
     },
     "execution_count": 114,
     "metadata": {},
     "output_type": "execute_result"
    }
   ],
   "source": [
    "distances = {}\n",
    "for i,seqid1 in enumerate(subset_seqs):\n",
    "    distances[seqid1,seqid1]=0\n",
    "    for j in range(i+1,len(subset_seqs)):\n",
    "        seqid2 = subset_seqs[j]\n",
    "        distances[seqid1,seqid2] = get_distance(position_table.loc[seqid1], position_table.loc[seqid2])\n",
    "        distances[seqid2,seqid1] = distances[seqid1,seqid2]\n",
    "distances = pd.Series(distances).unstack()\n",
    "distances.head()"
   ]
  },
  {
   "cell_type": "code",
   "execution_count": 115,
   "metadata": {},
   "outputs": [
    {
     "data": {
      "text/plain": [
       "seqid\n",
       "MT233526.1    WA\n",
       "MT246667.1    WA\n",
       "MT020880.1    WA\n",
       "MT020881.1    WA\n",
       "MT044258.1    CA\n",
       "              ..\n",
       "MT304477.1    AZ\n",
       "MT304478.1    FL\n",
       "MT304485.1    NH\n",
       "MT304486.1    NY\n",
       "MT325565.1    FL\n",
       "Name: state, Length: 100, dtype: object"
      ]
     },
     "execution_count": 115,
     "metadata": {},
     "output_type": "execute_result"
    }
   ],
   "source": [
    "position_table.loc[subset_seqs][\"state\"]"
   ]
  },
  {
   "cell_type": "markdown",
   "metadata": {},
   "source": [
    "## Select colors for each state"
   ]
  },
  {
   "cell_type": "markdown",
   "metadata": {},
   "source": [
    "I knew that I would want to visualize my results, so I assigned a color to each of the states in my subset of genomes."
   ]
  },
  {
   "cell_type": "code",
   "execution_count": 116,
   "metadata": {},
   "outputs": [
    {
     "data": {
      "text/plain": [
       "array(['WA', 'CA', 'IL', 'MA', 'WI', 'TX', nan, 'Snohomish County, WA',\n",
       "       'OR', 'RI', 'FL', 'GA', 'NH', 'VA', 'AZ', 'NY'], dtype=object)"
      ]
     },
     "execution_count": 116,
     "metadata": {},
     "output_type": "execute_result"
    }
   ],
   "source": [
    "states = position_table.loc[subset_seqs][\"state\"].unique()\n",
    "states"
   ]
  },
  {
   "cell_type": "code",
   "execution_count": 117,
   "metadata": {},
   "outputs": [],
   "source": [
    "state_to_color = {}"
   ]
  },
  {
   "cell_type": "code",
   "execution_count": 118,
   "metadata": {},
   "outputs": [
    {
     "data": {
      "text/plain": [
       "['red',\n",
       " 'yellow',\n",
       " 'green',\n",
       " 'cyan',\n",
       " 'blue',\n",
       " 'magenta',\n",
       " 'black',\n",
       " 'maroon',\n",
       " 'olive',\n",
       " 'lime',\n",
       " 'aqua',\n",
       " 'teal',\n",
       " 'navy',\n",
       " 'fuchsia',\n",
       " 'purple',\n",
       " 'silver',\n",
       " 'gray',\n",
       " 'pink',\n",
       " 'salmon',\n",
       " 'orange',\n",
       " 'gold',\n",
       " 'tan',\n",
       " 'brown']"
      ]
     },
     "execution_count": 118,
     "metadata": {},
     "output_type": "execute_result"
    }
   ],
   "source": [
    "all_colors = [color for color in Phylo.BaseTree.BranchColor.color_names\n",
    "              if len(color) > 1 and color not in [\"white\", \"grey\"]]\n",
    "all_colors"
   ]
  },
  {
   "cell_type": "code",
   "execution_count": 119,
   "metadata": {},
   "outputs": [],
   "source": [
    "#colors = random.sample(all_colors, len(countries))"
   ]
  },
  {
   "cell_type": "code",
   "execution_count": 120,
   "metadata": {},
   "outputs": [],
   "source": [
    "colors = all_colors[:len(states)]"
   ]
  },
  {
   "cell_type": "code",
   "execution_count": 121,
   "metadata": {},
   "outputs": [],
   "source": [
    "for state, color in zip(states, colors):\n",
    "    state_to_color[state] = color"
   ]
  },
  {
   "cell_type": "code",
   "execution_count": 122,
   "metadata": {},
   "outputs": [
    {
     "data": {
      "text/plain": [
       "{'WA': 'red',\n",
       " 'CA': 'yellow',\n",
       " 'IL': 'green',\n",
       " 'MA': 'cyan',\n",
       " 'WI': 'blue',\n",
       " 'TX': 'magenta',\n",
       " nan: 'black',\n",
       " 'Snohomish County, WA': 'maroon',\n",
       " 'OR': 'olive',\n",
       " 'RI': 'lime',\n",
       " 'FL': 'aqua',\n",
       " 'GA': 'teal',\n",
       " 'NH': 'navy',\n",
       " 'VA': 'fuchsia',\n",
       " 'AZ': 'purple',\n",
       " 'NY': 'silver'}"
      ]
     },
     "execution_count": 122,
     "metadata": {},
     "output_type": "execute_result"
    }
   ],
   "source": [
    "state_to_color"
   ]
  },
  {
   "cell_type": "markdown",
   "metadata": {},
   "source": [
    "I also made a legend for my graph at the end."
   ]
  },
  {
   "cell_type": "code",
   "execution_count": 123,
   "metadata": {},
   "outputs": [],
   "source": [
    "patches = []\n",
    "\n",
    "for state in state_to_color:\n",
    "    patch = mpatches.Patch(color=state_to_color[state], label=state)\n",
    "    patches.append(patch)"
   ]
  },
  {
   "cell_type": "code",
   "execution_count": null,
   "metadata": {},
   "outputs": [],
   "source": []
  },
  {
   "cell_type": "markdown",
   "metadata": {},
   "source": [
    "## Use Biopython to construct a phylogenetic tree"
   ]
  },
  {
   "cell_type": "markdown",
   "metadata": {},
   "source": [
    "Finally, I used Biopython to contruct a phylogenetic tree from my distance matrix"
   ]
  },
  {
   "cell_type": "code",
   "execution_count": 124,
   "metadata": {},
   "outputs": [],
   "source": [
    "matrix = np.tril(distances.values).tolist()\n",
    "for i in range(len(matrix)):\n",
    "    matrix[i] = matrix[i][:i+1]\n",
    "distance_matrix = DistanceMatrix(list(distances.index), matrix)"
   ]
  },
  {
   "cell_type": "code",
   "execution_count": 125,
   "metadata": {},
   "outputs": [],
   "source": [
    "tree_constructor = DistanceTreeConstructor()"
   ]
  },
  {
   "cell_type": "markdown",
   "metadata": {},
   "source": [
    "#### Neighbor Joining tree"
   ]
  },
  {
   "cell_type": "markdown",
   "metadata": {},
   "source": [
    "I tried out a Neighbor Joining tree and an Upgma tree, and the Neighbor Joining tree worked better in the end."
   ]
  },
  {
   "cell_type": "code",
   "execution_count": 126,
   "metadata": {},
   "outputs": [],
   "source": [
    "nj_tree = tree_constructor.nj(distance_matrix)"
   ]
  },
  {
   "cell_type": "code",
   "execution_count": 127,
   "metadata": {},
   "outputs": [],
   "source": [
    "nj_tree.ladderize()"
   ]
  },
  {
   "cell_type": "code",
   "execution_count": 128,
   "metadata": {},
   "outputs": [],
   "source": [
    "for clade in nj_tree.get_terminals():\n",
    "    state = get_location(clade.name.split(\".\")[0])[1]\n",
    "    clade.color = state_to_color[state]"
   ]
  },
  {
   "cell_type": "code",
   "execution_count": 129,
   "metadata": {},
   "outputs": [
    {
     "data": {
      "image/png": "[encoded data removed]",
      "text/plain": [
       "<Figure size 1080x1080 with 1 Axes>"
      ]
     },
     "metadata": {
      "needs_background": "light"
     },
     "output_type": "display_data"
    }
   ],
   "source": [
    "fig = plt.figure(figsize=(15, 15))\n",
    "axes = fig.add_subplot(1, 1, 1)\n",
    "plt.legend(handles=patches)\n",
    "Phylo.draw(nj_tree, axes=axes)"
   ]
  },
  {
   "cell_type": "markdown",
   "metadata": {},
   "source": [
    "This phylogeny is interesting because of where all of the unknown states show up - they are all clumped together near the top of the tree.  I wonder if they all come from the same place.  The graph also shows many of the genomes with the same color clustered together.  This makes sense, because strains of the virus within a state should be more similar.  This could be some indicator that people are following quarantine/shelter in home guidelines.  However, whenever we see different colors close to each other, it indicates that someone probably traveled to spread the virus from one state to another.  For example, Florida, Rhode Island, New York, New Hampshire, and other states on the east coast seem to be garbled together.  This indicates that many people were probably traveling around to spread the virus."
   ]
  },
  {
   "cell_type": "code",
   "execution_count": null,
   "metadata": {},
   "outputs": [],
   "source": []
  },
  {
   "cell_type": "code",
   "execution_count": null,
   "metadata": {},
   "outputs": [],
   "source": []
  },
  {
   "cell_type": "code",
   "execution_count": null,
   "metadata": {},
   "outputs": [],
   "source": []
  },
  {
   "cell_type": "code",
   "execution_count": null,
   "metadata": {},
   "outputs": [],
   "source": []
  },
  {
   "cell_type": "code",
   "execution_count": null,
   "metadata": {},
   "outputs": [],
   "source": []
  }
 ],
 "metadata": {
  "kernelspec": {
   "display_name": "Python 3",
   "language": "python",
   "name": "python3"
  },
  "language_info": {
   "codemirror_mode": {
    "name": "ipython",
    "version": 3
   },
   "file_extension": ".py",
   "mimetype": "text/x-python",
   "name": "python",
   "nbconvert_exporter": "python",
   "pygments_lexer": "ipython3",
   "version": "3.7.6"
  }
 },
 "nbformat": 4,
 "nbformat_minor": 4
}
