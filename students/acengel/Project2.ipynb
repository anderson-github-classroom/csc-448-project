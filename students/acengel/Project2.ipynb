{
 "cells": [
  {
   "cell_type": "markdown",
   "metadata": {},
   "source": [
    "# Project: Week 2"
   ]
  },
  {
   "cell_type": "markdown",
   "metadata": {},
   "source": [
    "This week, I wanted to apply my knowledge of phylogenetic trees to COVID-19.  Specifically, I wanted to look at how the virus has spread between countries.  Even more specifically, I want to know: How did COVID-19 get to the US?"
   ]
  },
  {
   "cell_type": "markdown",
   "metadata": {},
   "source": [
    "## Import Stuff"
   ]
  },
  {
   "cell_type": "code",
   "execution_count": 91,
   "metadata": {},
   "outputs": [
    {
     "name": "stdout",
     "output_type": "stream",
     "text": [
      "Collecting biopython\n",
      "  Downloading biopython-1.76-cp37-cp37m-win_amd64.whl (2.3 MB)\n",
      "Requirement already satisfied: numpy in c:\\users\\alex\\anaconda3\\lib\\site-packages (from biopython) (1.18.1)\n",
      "Installing collected packages: biopython\n",
      "Successfully installed biopython-1.76\n"
     ]
    }
   ],
   "source": [
    "!pip install biopython"
   ]
  },
  {
   "cell_type": "code",
   "execution_count": 322,
   "metadata": {},
   "outputs": [],
   "source": [
    "import pandas as pd\n",
    "import numpy as np\n",
    "import yaml\n",
    "import urllib\n",
    "from Bio.Phylo.TreeConstruction import DistanceMatrix\n",
    "from Bio.Phylo.TreeConstruction import DistanceTreeConstructor\n",
    "from Bio import Phylo\n",
    "import matplotlib\n",
    "import random\n",
    "import matplotlib.pylab as plt\n",
    "import matplotlib.patches as mpatches"
   ]
  },
  {
   "cell_type": "code",
   "execution_count": 117,
   "metadata": {},
   "outputs": [],
   "source": [
    "%matplotlib inline"
   ]
  },
  {
   "cell_type": "markdown",
   "metadata": {},
   "source": [
    "## Get Given Data - aligned sequences"
   ]
  },
  {
   "cell_type": "markdown",
   "metadata": {},
   "source": [
    "First, I started with the data given by my professor.  Below is a table of all of the COVID-19 genomes made available by the galaxy project.  Specifically, this table contains the aligned sequences corresponding to the spike protein."
   ]
  },
  {
   "cell_type": "code",
   "execution_count": 4,
   "metadata": {},
   "outputs": [],
   "source": [
    "position_table = pd.read_csv('../../data/position_table.csv')"
   ]
  },
  {
   "cell_type": "code",
   "execution_count": 5,
   "metadata": {},
   "outputs": [
    {
     "data": {
      "text/html": [
       "<div>\n",
       "<style scoped>\n",
       "    .dataframe tbody tr th:only-of-type {\n",
       "        vertical-align: middle;\n",
       "    }\n",
       "\n",
       "    .dataframe tbody tr th {\n",
       "        vertical-align: top;\n",
       "    }\n",
       "\n",
       "    .dataframe thead th {\n",
       "        text-align: right;\n",
       "    }\n",
       "</style>\n",
       "<table border=\"1\" class=\"dataframe\">\n",
       "  <thead>\n",
       "    <tr style=\"text-align: right;\">\n",
       "      <th></th>\n",
       "      <th>seqid</th>\n",
       "      <th>S_1_1</th>\n",
       "      <th>S_1_2</th>\n",
       "      <th>S_1_3</th>\n",
       "      <th>S_2_1</th>\n",
       "      <th>S_2_2</th>\n",
       "      <th>S_2_3</th>\n",
       "      <th>S_3_1</th>\n",
       "      <th>S_3_2</th>\n",
       "      <th>S_3_3</th>\n",
       "      <th>...</th>\n",
       "      <th>S_1270_3</th>\n",
       "      <th>S_1271_1</th>\n",
       "      <th>S_1271_2</th>\n",
       "      <th>S_1271_3</th>\n",
       "      <th>S_1272_1</th>\n",
       "      <th>S_1272_2</th>\n",
       "      <th>S_1272_3</th>\n",
       "      <th>S_1273_1</th>\n",
       "      <th>S_1273_2</th>\n",
       "      <th>S_1273_3</th>\n",
       "    </tr>\n",
       "  </thead>\n",
       "  <tbody>\n",
       "    <tr>\n",
       "      <th>0</th>\n",
       "      <td>MT007544.1</td>\n",
       "      <td>A</td>\n",
       "      <td>T</td>\n",
       "      <td>G</td>\n",
       "      <td>T</td>\n",
       "      <td>T</td>\n",
       "      <td>T</td>\n",
       "      <td>G</td>\n",
       "      <td>T</td>\n",
       "      <td>T</td>\n",
       "      <td>...</td>\n",
       "      <td>A</td>\n",
       "      <td>C</td>\n",
       "      <td>A</td>\n",
       "      <td>T</td>\n",
       "      <td>T</td>\n",
       "      <td>A</td>\n",
       "      <td>C</td>\n",
       "      <td>A</td>\n",
       "      <td>C</td>\n",
       "      <td>A</td>\n",
       "    </tr>\n",
       "    <tr>\n",
       "      <th>1</th>\n",
       "      <td>MT019529.1</td>\n",
       "      <td>A</td>\n",
       "      <td>T</td>\n",
       "      <td>G</td>\n",
       "      <td>T</td>\n",
       "      <td>T</td>\n",
       "      <td>T</td>\n",
       "      <td>G</td>\n",
       "      <td>T</td>\n",
       "      <td>T</td>\n",
       "      <td>...</td>\n",
       "      <td>A</td>\n",
       "      <td>C</td>\n",
       "      <td>A</td>\n",
       "      <td>T</td>\n",
       "      <td>T</td>\n",
       "      <td>A</td>\n",
       "      <td>C</td>\n",
       "      <td>A</td>\n",
       "      <td>C</td>\n",
       "      <td>A</td>\n",
       "    </tr>\n",
       "    <tr>\n",
       "      <th>2</th>\n",
       "      <td>MT019530.1</td>\n",
       "      <td>A</td>\n",
       "      <td>T</td>\n",
       "      <td>G</td>\n",
       "      <td>T</td>\n",
       "      <td>T</td>\n",
       "      <td>T</td>\n",
       "      <td>G</td>\n",
       "      <td>T</td>\n",
       "      <td>T</td>\n",
       "      <td>...</td>\n",
       "      <td>A</td>\n",
       "      <td>C</td>\n",
       "      <td>A</td>\n",
       "      <td>T</td>\n",
       "      <td>T</td>\n",
       "      <td>A</td>\n",
       "      <td>C</td>\n",
       "      <td>A</td>\n",
       "      <td>C</td>\n",
       "      <td>A</td>\n",
       "    </tr>\n",
       "    <tr>\n",
       "      <th>3</th>\n",
       "      <td>MT019531.1</td>\n",
       "      <td>A</td>\n",
       "      <td>T</td>\n",
       "      <td>G</td>\n",
       "      <td>T</td>\n",
       "      <td>T</td>\n",
       "      <td>T</td>\n",
       "      <td>G</td>\n",
       "      <td>T</td>\n",
       "      <td>T</td>\n",
       "      <td>...</td>\n",
       "      <td>A</td>\n",
       "      <td>C</td>\n",
       "      <td>A</td>\n",
       "      <td>T</td>\n",
       "      <td>T</td>\n",
       "      <td>A</td>\n",
       "      <td>C</td>\n",
       "      <td>A</td>\n",
       "      <td>C</td>\n",
       "      <td>A</td>\n",
       "    </tr>\n",
       "    <tr>\n",
       "      <th>4</th>\n",
       "      <td>MT019532.1</td>\n",
       "      <td>A</td>\n",
       "      <td>T</td>\n",
       "      <td>G</td>\n",
       "      <td>T</td>\n",
       "      <td>T</td>\n",
       "      <td>T</td>\n",
       "      <td>G</td>\n",
       "      <td>T</td>\n",
       "      <td>T</td>\n",
       "      <td>...</td>\n",
       "      <td>A</td>\n",
       "      <td>C</td>\n",
       "      <td>A</td>\n",
       "      <td>T</td>\n",
       "      <td>T</td>\n",
       "      <td>A</td>\n",
       "      <td>C</td>\n",
       "      <td>A</td>\n",
       "      <td>C</td>\n",
       "      <td>A</td>\n",
       "    </tr>\n",
       "    <tr>\n",
       "      <th>...</th>\n",
       "      <td>...</td>\n",
       "      <td>...</td>\n",
       "      <td>...</td>\n",
       "      <td>...</td>\n",
       "      <td>...</td>\n",
       "      <td>...</td>\n",
       "      <td>...</td>\n",
       "      <td>...</td>\n",
       "      <td>...</td>\n",
       "      <td>...</td>\n",
       "      <td>...</td>\n",
       "      <td>...</td>\n",
       "      <td>...</td>\n",
       "      <td>...</td>\n",
       "      <td>...</td>\n",
       "      <td>...</td>\n",
       "      <td>...</td>\n",
       "      <td>...</td>\n",
       "      <td>...</td>\n",
       "      <td>...</td>\n",
       "      <td>...</td>\n",
       "    </tr>\n",
       "    <tr>\n",
       "      <th>672</th>\n",
       "      <td>MT334544.1</td>\n",
       "      <td>A</td>\n",
       "      <td>T</td>\n",
       "      <td>G</td>\n",
       "      <td>T</td>\n",
       "      <td>T</td>\n",
       "      <td>T</td>\n",
       "      <td>G</td>\n",
       "      <td>T</td>\n",
       "      <td>T</td>\n",
       "      <td>...</td>\n",
       "      <td>A</td>\n",
       "      <td>C</td>\n",
       "      <td>A</td>\n",
       "      <td>T</td>\n",
       "      <td>T</td>\n",
       "      <td>A</td>\n",
       "      <td>C</td>\n",
       "      <td>A</td>\n",
       "      <td>C</td>\n",
       "      <td>A</td>\n",
       "    </tr>\n",
       "    <tr>\n",
       "      <th>673</th>\n",
       "      <td>MT334546.1</td>\n",
       "      <td>A</td>\n",
       "      <td>T</td>\n",
       "      <td>G</td>\n",
       "      <td>T</td>\n",
       "      <td>T</td>\n",
       "      <td>T</td>\n",
       "      <td>G</td>\n",
       "      <td>T</td>\n",
       "      <td>T</td>\n",
       "      <td>...</td>\n",
       "      <td>A</td>\n",
       "      <td>C</td>\n",
       "      <td>A</td>\n",
       "      <td>T</td>\n",
       "      <td>T</td>\n",
       "      <td>A</td>\n",
       "      <td>C</td>\n",
       "      <td>A</td>\n",
       "      <td>C</td>\n",
       "      <td>A</td>\n",
       "    </tr>\n",
       "    <tr>\n",
       "      <th>674</th>\n",
       "      <td>MT334547.1</td>\n",
       "      <td>A</td>\n",
       "      <td>T</td>\n",
       "      <td>G</td>\n",
       "      <td>T</td>\n",
       "      <td>T</td>\n",
       "      <td>T</td>\n",
       "      <td>G</td>\n",
       "      <td>T</td>\n",
       "      <td>T</td>\n",
       "      <td>...</td>\n",
       "      <td>A</td>\n",
       "      <td>C</td>\n",
       "      <td>A</td>\n",
       "      <td>T</td>\n",
       "      <td>T</td>\n",
       "      <td>A</td>\n",
       "      <td>C</td>\n",
       "      <td>A</td>\n",
       "      <td>C</td>\n",
       "      <td>A</td>\n",
       "    </tr>\n",
       "    <tr>\n",
       "      <th>675</th>\n",
       "      <td>MT334557.1</td>\n",
       "      <td>A</td>\n",
       "      <td>T</td>\n",
       "      <td>G</td>\n",
       "      <td>T</td>\n",
       "      <td>T</td>\n",
       "      <td>T</td>\n",
       "      <td>G</td>\n",
       "      <td>T</td>\n",
       "      <td>T</td>\n",
       "      <td>...</td>\n",
       "      <td>A</td>\n",
       "      <td>C</td>\n",
       "      <td>A</td>\n",
       "      <td>T</td>\n",
       "      <td>T</td>\n",
       "      <td>A</td>\n",
       "      <td>C</td>\n",
       "      <td>A</td>\n",
       "      <td>C</td>\n",
       "      <td>A</td>\n",
       "    </tr>\n",
       "    <tr>\n",
       "      <th>676</th>\n",
       "      <td>MT334561.1</td>\n",
       "      <td>A</td>\n",
       "      <td>T</td>\n",
       "      <td>G</td>\n",
       "      <td>T</td>\n",
       "      <td>T</td>\n",
       "      <td>T</td>\n",
       "      <td>G</td>\n",
       "      <td>T</td>\n",
       "      <td>T</td>\n",
       "      <td>...</td>\n",
       "      <td>A</td>\n",
       "      <td>C</td>\n",
       "      <td>A</td>\n",
       "      <td>T</td>\n",
       "      <td>T</td>\n",
       "      <td>A</td>\n",
       "      <td>C</td>\n",
       "      <td>A</td>\n",
       "      <td>C</td>\n",
       "      <td>A</td>\n",
       "    </tr>\n",
       "  </tbody>\n",
       "</table>\n",
       "<p>677 rows × 3820 columns</p>\n",
       "</div>"
      ],
      "text/plain": [
       "          seqid S_1_1 S_1_2 S_1_3 S_2_1 S_2_2 S_2_3 S_3_1 S_3_2 S_3_3  ...  \\\n",
       "0    MT007544.1     A     T     G     T     T     T     G     T     T  ...   \n",
       "1    MT019529.1     A     T     G     T     T     T     G     T     T  ...   \n",
       "2    MT019530.1     A     T     G     T     T     T     G     T     T  ...   \n",
       "3    MT019531.1     A     T     G     T     T     T     G     T     T  ...   \n",
       "4    MT019532.1     A     T     G     T     T     T     G     T     T  ...   \n",
       "..          ...   ...   ...   ...   ...   ...   ...   ...   ...   ...  ...   \n",
       "672  MT334544.1     A     T     G     T     T     T     G     T     T  ...   \n",
       "673  MT334546.1     A     T     G     T     T     T     G     T     T  ...   \n",
       "674  MT334547.1     A     T     G     T     T     T     G     T     T  ...   \n",
       "675  MT334557.1     A     T     G     T     T     T     G     T     T  ...   \n",
       "676  MT334561.1     A     T     G     T     T     T     G     T     T  ...   \n",
       "\n",
       "    S_1270_3 S_1271_1 S_1271_2 S_1271_3 S_1272_1 S_1272_2 S_1272_3 S_1273_1  \\\n",
       "0          A        C        A        T        T        A        C        A   \n",
       "1          A        C        A        T        T        A        C        A   \n",
       "2          A        C        A        T        T        A        C        A   \n",
       "3          A        C        A        T        T        A        C        A   \n",
       "4          A        C        A        T        T        A        C        A   \n",
       "..       ...      ...      ...      ...      ...      ...      ...      ...   \n",
       "672        A        C        A        T        T        A        C        A   \n",
       "673        A        C        A        T        T        A        C        A   \n",
       "674        A        C        A        T        T        A        C        A   \n",
       "675        A        C        A        T        T        A        C        A   \n",
       "676        A        C        A        T        T        A        C        A   \n",
       "\n",
       "    S_1273_2 S_1273_3  \n",
       "0          C        A  \n",
       "1          C        A  \n",
       "2          C        A  \n",
       "3          C        A  \n",
       "4          C        A  \n",
       "..       ...      ...  \n",
       "672        C        A  \n",
       "673        C        A  \n",
       "674        C        A  \n",
       "675        C        A  \n",
       "676        C        A  \n",
       "\n",
       "[677 rows x 3820 columns]"
      ]
     },
     "execution_count": 5,
     "metadata": {},
     "output_type": "execute_result"
    }
   ],
   "source": [
    "position_table"
   ]
  },
  {
   "cell_type": "markdown",
   "metadata": {},
   "source": [
    "## Get location and date data"
   ]
  },
  {
   "cell_type": "markdown",
   "metadata": {},
   "source": [
    "Next, I wanted to get extra info about these genomes, like when and where the sample was taken.  \n",
    "After rooting around on the galaxy project website, I found a script called _fetch_sra_acc.sh_.  In this file, I found out that they get their data from the NCBI.  Specifically, they pull info on the genomes from a file called [ncov-sequences.yaml](https://www.ncbi.nlm.nih.gov/core/assets/genbank/files/ncov-sequences.yaml).  I loaded the data into a dictionary to look up in."
   ]
  },
  {
   "cell_type": "code",
   "execution_count": 16,
   "metadata": {},
   "outputs": [],
   "source": [
    "with urllib.request.urlopen(\"https://www.ncbi.nlm.nih.gov/core/assets/genbank/files/ncov-sequences.yaml\") as response:\n",
    "    text = response.read()"
   ]
  },
  {
   "cell_type": "code",
   "execution_count": 18,
   "metadata": {},
   "outputs": [
    {
     "name": "stderr",
     "output_type": "stream",
     "text": [
      "C:\\Users\\Alex\\anaconda3\\lib\\site-packages\\ipykernel_launcher.py:1: YAMLLoadWarning: calling yaml.load() without Loader=... is deprecated, as the default Loader is unsafe. Please read https://msg.pyyaml.org/load for full details.\n",
      "  \"\"\"Entry point for launching an IPython kernel.\n"
     ]
    }
   ],
   "source": [
    "lookup = yaml.load(text)"
   ]
  },
  {
   "cell_type": "code",
   "execution_count": 53,
   "metadata": {},
   "outputs": [],
   "source": [
    "name_to_description = {}\n",
    "\n",
    "for description in lookup[\"genbank-sequences\"]:\n",
    "    name = description[\"accession\"]\n",
    "    name_to_description[name] = description"
   ]
  },
  {
   "cell_type": "markdown",
   "metadata": {},
   "source": [
    "## Combine Data"
   ]
  },
  {
   "cell_type": "markdown",
   "metadata": {},
   "source": [
    "Next, I swept over my genome table to add the extra location and date info."
   ]
  },
  {
   "cell_type": "code",
   "execution_count": 63,
   "metadata": {},
   "outputs": [],
   "source": [
    "position_table[\"name\"] = position_table[\"seqid\"].str.replace(\"\\.\\d\", \"\")"
   ]
  },
  {
   "cell_type": "code",
   "execution_count": 66,
   "metadata": {},
   "outputs": [
    {
     "data": {
      "text/plain": [
       "9"
      ]
     },
     "execution_count": 66,
     "metadata": {},
     "output_type": "execute_result"
    }
   ],
   "source": [
    "def get_country(name):\n",
    "    if name in name_to_description:\n",
    "        description = name_to_description[name]\n",
    "        country = description[\"locality\"][\"country\"]\n",
    "        return country\n",
    "    else:\n",
    "        return np.nan\n",
    "\n",
    "position_table[\"country\"] = position_table[\"name\"].apply(get_country)\n",
    "position_table[\"country\"].isna().sum()"
   ]
  },
  {
   "cell_type": "markdown",
   "metadata": {},
   "source": [
    "Looks like there are only 9 genomes without a country."
   ]
  },
  {
   "cell_type": "code",
   "execution_count": 69,
   "metadata": {},
   "outputs": [
    {
     "data": {
      "text/plain": [
       "178"
      ]
     },
     "execution_count": 69,
     "metadata": {},
     "output_type": "execute_result"
    }
   ],
   "source": [
    "def get_state(name):\n",
    "    if name in name_to_description:\n",
    "        description = name_to_description[name]\n",
    "        if \"state\" in description[\"locality\"]:\n",
    "            state = description[\"locality\"][\"state\"]\n",
    "            return state\n",
    "        else:\n",
    "            return np.nan\n",
    "    else:\n",
    "        return np.nan\n",
    "\n",
    "position_table[\"state\"] = position_table[\"name\"].apply(get_state)\n",
    "position_table[\"state\"].isna().sum()"
   ]
  },
  {
   "cell_type": "markdown",
   "metadata": {},
   "source": [
    "There are 178 genomes without a state."
   ]
  },
  {
   "cell_type": "code",
   "execution_count": 185,
   "metadata": {},
   "outputs": [
    {
     "data": {
      "text/plain": [
       "9"
      ]
     },
     "execution_count": 185,
     "metadata": {},
     "output_type": "execute_result"
    }
   ],
   "source": [
    "def get_date(name):\n",
    "    if name in name_to_description:\n",
    "        description = name_to_description[name]\n",
    "        date = description[\"collection-date\"]\n",
    "        return date\n",
    "    else:\n",
    "        return np.nan\n",
    "\n",
    "position_table[\"date\"] = position_table[\"name\"].apply(get_date)\n",
    "position_table[\"date\"].isna().sum()"
   ]
  },
  {
   "cell_type": "markdown",
   "metadata": {},
   "source": [
    "There are 9 genomes without a date.  Below, I looked at the dates and decided to clean out a few."
   ]
  },
  {
   "cell_type": "code",
   "execution_count": 187,
   "metadata": {},
   "outputs": [
    {
     "data": {
      "text/plain": [
       "array([datetime.date(2020, 1, 25), datetime.date(2019, 12, 23),\n",
       "       datetime.date(2019, 12, 30), datetime.date(2020, 1, 1),\n",
       "       datetime.date(2020, 1, 29), datetime.date(2020, 1, 20),\n",
       "       datetime.date(2020, 1, 31), '2020-01', datetime.date(2020, 1, 28),\n",
       "       datetime.date(2020, 1, 27), datetime.date(2020, 1, 17),\n",
       "       datetime.date(2020, 2, 5), datetime.date(2020, 1, 13),\n",
       "       datetime.date(2020, 2, 7), datetime.date(2020, 1, 8),\n",
       "       datetime.date(2020, 2, 6), datetime.date(2020, 2, 10),\n",
       "       datetime.date(2020, 2, 11), datetime.date(2020, 2, 23),\n",
       "       datetime.date(2020, 2, 28), datetime.date(2020, 1, 26),\n",
       "       datetime.date(2020, 2, 24), datetime.date(2020, 2, 2),\n",
       "       datetime.date(2020, 2, 17), datetime.date(2020, 2, 20),\n",
       "       datetime.date(2020, 2, 25), datetime.date(2020, 2, 18),\n",
       "       datetime.date(2020, 2, 21), datetime.date(2020, 1, 30),\n",
       "       datetime.date(2020, 2, 27), datetime.date(2020, 2, 29),\n",
       "       datetime.date(2020, 3, 1), datetime.date(2020, 3, 9),\n",
       "       datetime.date(2020, 3, 7), datetime.date(2020, 3, 5),\n",
       "       datetime.date(2020, 3, 11), datetime.date(2020, 1, 22),\n",
       "       datetime.date(2020, 3, 2), datetime.date(2020, 3, 4),\n",
       "       datetime.date(2020, 3, 13), datetime.date(2020, 3, 12),\n",
       "       datetime.date(2020, 3, 14), datetime.date(2020, 3, 15),\n",
       "       datetime.date(2020, 1, 23), datetime.date(2020, 1, 24),\n",
       "       datetime.date(2020, 1, 21), datetime.date(2020, 3, 18),\n",
       "       datetime.date(2020, 1, 10), datetime.date(2020, 3, 16),\n",
       "       datetime.date(2020, 3, 10), datetime.date(2020, 3, 23),\n",
       "       datetime.date(2020, 3, 24), datetime.date(2020, 3, 20),\n",
       "       datetime.date(2020, 3, 17), datetime.date(2020, 1, 19),\n",
       "       datetime.date(2020, 2, 26), '2020-02', '2020-03',\n",
       "       datetime.date(2020, 3, 30), datetime.date(2020, 3, 29),\n",
       "       datetime.date(2020, 3, 27), datetime.date(2020, 3, 26),\n",
       "       datetime.date(2020, 3, 28), datetime.date(2020, 3, 19),\n",
       "       datetime.date(2020, 4, 2), datetime.date(2020, 3, 3), nan,\n",
       "       '2020-04', datetime.date(2020, 3, 25), datetime.date(2020, 3, 6),\n",
       "       datetime.date(2020, 3, 8), datetime.date(2020, 3, 21),\n",
       "       datetime.date(2020, 3, 22), 2020], dtype=object)"
      ]
     },
     "execution_count": 187,
     "metadata": {},
     "output_type": "execute_result"
    }
   ],
   "source": [
    "position_table[\"date\"].unique()"
   ]
  },
  {
   "cell_type": "code",
   "execution_count": 192,
   "metadata": {},
   "outputs": [],
   "source": [
    "position_table = position_table[position_table[\"date\"] != 2020]"
   ]
  },
  {
   "cell_type": "code",
   "execution_count": 193,
   "metadata": {},
   "outputs": [],
   "source": [
    "position_table = position_table[~position_table[\"date\"].isna()]"
   ]
  },
  {
   "cell_type": "code",
   "execution_count": 198,
   "metadata": {},
   "outputs": [],
   "source": [
    "position_table[\"date\"] = pd.to_datetime(position_table[\"date\"])"
   ]
  },
  {
   "cell_type": "markdown",
   "metadata": {},
   "source": [
    "Finally, I took a look at some of the country and state info."
   ]
  },
  {
   "cell_type": "code",
   "execution_count": 78,
   "metadata": {},
   "outputs": [
    {
     "data": {
      "text/plain": [
       "array(['Australia', 'China', 'USA', 'South Korea', 'Taiwan', 'Nepal',\n",
       "       'Sweden', 'Brazil', 'India', 'Italy', 'Viet Nam', 'Spain',\n",
       "       'Pakistan', 'Peru', 'Israel', nan, 'France', 'Iran',\n",
       "       'South Africa', 'Turkey', 'Greece'], dtype=object)"
      ]
     },
     "execution_count": 78,
     "metadata": {},
     "output_type": "execute_result"
    }
   ],
   "source": [
    "position_table[\"country\"].unique()"
   ]
  },
  {
   "cell_type": "code",
   "execution_count": 75,
   "metadata": {},
   "outputs": [
    {
     "data": {
      "text/plain": [
       "array(['Victoria', 'Hubei, Wuhan', 'WA', 'CA', 'Hangzhou', 'WI', 'MA',\n",
       "       nan, 'IL', 'Yunnan', 'TX', 'Guangdong, Guangzhou', 'Guangzhou',\n",
       "       'Beijing', 'Snohomish County, WA', 'Kerala State', 'Shanghai',\n",
       "       'MN', 'CA, San Diego County', 'Ho Chi Minh city', 'Valencia',\n",
       "       'Gilgit', 'CT', 'Zhejiang, Hangzhou', 'San Francisco, CA', 'KPK',\n",
       "       'RI', 'GA', 'OR', 'FL', 'Anhui, Fuyang', 'Wuhan', 'North Carolina',\n",
       "       'AZ', 'NH', 'NY', 'NC', 'VA', 'KwaZulu-Natal', 'DC', 'IA', 'IN',\n",
       "       'KS', 'LA', 'MD', 'MO', 'NE', 'NJ', 'NV', 'OH', 'PA', 'SC', 'UT'],\n",
       "      dtype=object)"
      ]
     },
     "execution_count": 75,
     "metadata": {},
     "output_type": "execute_result"
    }
   ],
   "source": [
    "position_table[\"state\"].unique()"
   ]
  },
  {
   "cell_type": "markdown",
   "metadata": {},
   "source": [
    "## Problem"
   ]
  },
  {
   "cell_type": "markdown",
   "metadata": {},
   "source": [
    "I wanted to take a look at how COVID-19 got to the US.  To do this, I first selected the first 10 recorded COVID-19 genomes in the US."
   ]
  },
  {
   "cell_type": "code",
   "execution_count": 229,
   "metadata": {},
   "outputs": [
    {
     "data": {
      "text/plain": [
       "[Timestamp('2020-01-19 00:00:00'),\n",
       " Timestamp('2020-01-19 00:00:00'),\n",
       " Timestamp('2020-01-25 00:00:00'),\n",
       " Timestamp('2020-01-25 00:00:00'),\n",
       " Timestamp('2020-01-27 00:00:00'),\n",
       " Timestamp('2020-01-28 00:00:00'),\n",
       " Timestamp('2020-01-29 00:00:00'),\n",
       " Timestamp('2020-01-29 00:00:00'),\n",
       " Timestamp('2020-01-29 00:00:00'),\n",
       " Timestamp('2020-01-29 00:00:00')]"
      ]
     },
     "execution_count": 229,
     "metadata": {},
     "output_type": "execute_result"
    }
   ],
   "source": [
    "first_usa_infections = sorted(position_table[position_table[\"country\"] == \"USA\"][\"date\"])[:10]\n",
    "first_usa_infections"
   ]
  },
  {
   "cell_type": "markdown",
   "metadata": {},
   "source": [
    "Then, I selected the latest date from among those."
   ]
  },
  {
   "cell_type": "code",
   "execution_count": 231,
   "metadata": {},
   "outputs": [],
   "source": [
    "max_first_usa_infections = max(first_usa_infections)"
   ]
  },
  {
   "cell_type": "markdown",
   "metadata": {},
   "source": [
    "## Select our sequences for analysis"
   ]
  },
  {
   "cell_type": "markdown",
   "metadata": {},
   "source": [
    "For my analysis, I selected all of the sequences that were recorded before the date I selected."
   ]
  },
  {
   "cell_type": "code",
   "execution_count": null,
   "metadata": {},
   "outputs": [],
   "source": [
    "position_table = position_table.set_index(\"seqid\")"
   ]
  },
  {
   "cell_type": "code",
   "execution_count": 232,
   "metadata": {},
   "outputs": [],
   "source": [
    "subset_seqs = position_table[position_table[\"date\"] < max_first_usa_infections].index"
   ]
  },
  {
   "cell_type": "code",
   "execution_count": 233,
   "metadata": {},
   "outputs": [
    {
     "data": {
      "text/plain": [
       "Index(['MT007544.1', 'MT019529.1', 'MT019530.1', 'MT019531.1', 'MT019532.1',\n",
       "       'MT019533.1', 'MT020880.1', 'MT020881.1', 'MT039873.1', 'MT039890.1',\n",
       "       'MT044257.1', 'MT044258.1', 'MT049951.1', 'MT072688.1', 'MT093631.2',\n",
       "       'MT123292.2', 'MT135041.1', 'MT135042.1', 'MT135043.1', 'MT135044.1',\n",
       "       'MT012098.1', 'MT192759.1', 'MT192772.1', 'MT192773.1', 'MT226610.1',\n",
       "       'MT253696.1', 'MT253697.1', 'MT253698.1', 'MT253699.1', 'MT253700.1',\n",
       "       'MT253701.1', 'MT253702.1', 'MT253703.1', 'MT253704.1', 'MT253705.1',\n",
       "       'MT253706.1', 'MT253707.1', 'MT253708.1', 'MT253709.1', 'MT253710.1',\n",
       "       'MT259226.1', 'MT259227.1', 'MT259228.1', 'MT259229.1', 'MT259230.1',\n",
       "       'MT259231.1', 'MT233526.1', 'MT246667.1', 'MT291826.1', 'MT291827.1',\n",
       "       'MT291828.1', 'MT291829.1', 'MT291830.1', 'MT291831.1', 'MT291832.1',\n",
       "       'MT291833.1', 'MT291834.1', 'MT291835.1', 'MT039874.1'],\n",
       "      dtype='object', name='seqid')"
      ]
     },
     "execution_count": 233,
     "metadata": {},
     "output_type": "execute_result"
    }
   ],
   "source": [
    "subset_seqs"
   ]
  },
  {
   "cell_type": "markdown",
   "metadata": {},
   "source": [
    "## Select our distance metric"
   ]
  },
  {
   "cell_type": "markdown",
   "metadata": {},
   "source": [
    "Next, I got a distance matrix among all of the selected sequences.  I decided to stick with a simple distance metric - just the number of differences between the two.  This seemed appropriate because the sequences were relatively short and well-aligned."
   ]
  },
  {
   "cell_type": "code",
   "execution_count": 234,
   "metadata": {},
   "outputs": [],
   "source": [
    "def get_distance(seq1, seq2):\n",
    "    return sum(seq1 != seq2)"
   ]
  },
  {
   "cell_type": "code",
   "execution_count": 321,
   "metadata": {},
   "outputs": [
    {
     "data": {
      "text/html": [
       "<div>\n",
       "<style scoped>\n",
       "    .dataframe tbody tr th:only-of-type {\n",
       "        vertical-align: middle;\n",
       "    }\n",
       "\n",
       "    .dataframe tbody tr th {\n",
       "        vertical-align: top;\n",
       "    }\n",
       "\n",
       "    .dataframe thead th {\n",
       "        text-align: right;\n",
       "    }\n",
       "</style>\n",
       "<table border=\"1\" class=\"dataframe\">\n",
       "  <thead>\n",
       "    <tr style=\"text-align: right;\">\n",
       "      <th></th>\n",
       "      <th>MT007544.1</th>\n",
       "      <th>MT012098.1</th>\n",
       "      <th>MT019529.1</th>\n",
       "      <th>MT019530.1</th>\n",
       "      <th>MT019531.1</th>\n",
       "      <th>MT019532.1</th>\n",
       "      <th>MT019533.1</th>\n",
       "      <th>MT020880.1</th>\n",
       "      <th>MT020881.1</th>\n",
       "      <th>MT039873.1</th>\n",
       "      <th>...</th>\n",
       "      <th>MT291826.1</th>\n",
       "      <th>MT291827.1</th>\n",
       "      <th>MT291828.1</th>\n",
       "      <th>MT291829.1</th>\n",
       "      <th>MT291830.1</th>\n",
       "      <th>MT291831.1</th>\n",
       "      <th>MT291832.1</th>\n",
       "      <th>MT291833.1</th>\n",
       "      <th>MT291834.1</th>\n",
       "      <th>MT291835.1</th>\n",
       "    </tr>\n",
       "  </thead>\n",
       "  <tbody>\n",
       "    <tr>\n",
       "      <th>MT007544.1</th>\n",
       "      <td>0</td>\n",
       "      <td>10</td>\n",
       "      <td>6</td>\n",
       "      <td>6</td>\n",
       "      <td>6</td>\n",
       "      <td>6</td>\n",
       "      <td>6</td>\n",
       "      <td>5</td>\n",
       "      <td>5</td>\n",
       "      <td>6</td>\n",
       "      <td>...</td>\n",
       "      <td>6</td>\n",
       "      <td>6</td>\n",
       "      <td>7</td>\n",
       "      <td>6</td>\n",
       "      <td>6</td>\n",
       "      <td>6</td>\n",
       "      <td>5</td>\n",
       "      <td>6</td>\n",
       "      <td>6</td>\n",
       "      <td>6</td>\n",
       "    </tr>\n",
       "    <tr>\n",
       "      <th>MT012098.1</th>\n",
       "      <td>10</td>\n",
       "      <td>0</td>\n",
       "      <td>9</td>\n",
       "      <td>9</td>\n",
       "      <td>9</td>\n",
       "      <td>9</td>\n",
       "      <td>9</td>\n",
       "      <td>9</td>\n",
       "      <td>9</td>\n",
       "      <td>9</td>\n",
       "      <td>...</td>\n",
       "      <td>9</td>\n",
       "      <td>9</td>\n",
       "      <td>10</td>\n",
       "      <td>9</td>\n",
       "      <td>9</td>\n",
       "      <td>9</td>\n",
       "      <td>9</td>\n",
       "      <td>9</td>\n",
       "      <td>9</td>\n",
       "      <td>8</td>\n",
       "    </tr>\n",
       "    <tr>\n",
       "      <th>MT019529.1</th>\n",
       "      <td>6</td>\n",
       "      <td>9</td>\n",
       "      <td>0</td>\n",
       "      <td>2</td>\n",
       "      <td>2</td>\n",
       "      <td>2</td>\n",
       "      <td>2</td>\n",
       "      <td>5</td>\n",
       "      <td>5</td>\n",
       "      <td>3</td>\n",
       "      <td>...</td>\n",
       "      <td>3</td>\n",
       "      <td>3</td>\n",
       "      <td>4</td>\n",
       "      <td>3</td>\n",
       "      <td>3</td>\n",
       "      <td>3</td>\n",
       "      <td>3</td>\n",
       "      <td>3</td>\n",
       "      <td>3</td>\n",
       "      <td>3</td>\n",
       "    </tr>\n",
       "    <tr>\n",
       "      <th>MT019530.1</th>\n",
       "      <td>6</td>\n",
       "      <td>9</td>\n",
       "      <td>2</td>\n",
       "      <td>0</td>\n",
       "      <td>1</td>\n",
       "      <td>1</td>\n",
       "      <td>2</td>\n",
       "      <td>5</td>\n",
       "      <td>5</td>\n",
       "      <td>3</td>\n",
       "      <td>...</td>\n",
       "      <td>2</td>\n",
       "      <td>2</td>\n",
       "      <td>3</td>\n",
       "      <td>2</td>\n",
       "      <td>2</td>\n",
       "      <td>3</td>\n",
       "      <td>3</td>\n",
       "      <td>3</td>\n",
       "      <td>3</td>\n",
       "      <td>3</td>\n",
       "    </tr>\n",
       "    <tr>\n",
       "      <th>MT019531.1</th>\n",
       "      <td>6</td>\n",
       "      <td>9</td>\n",
       "      <td>2</td>\n",
       "      <td>1</td>\n",
       "      <td>0</td>\n",
       "      <td>1</td>\n",
       "      <td>2</td>\n",
       "      <td>5</td>\n",
       "      <td>5</td>\n",
       "      <td>3</td>\n",
       "      <td>...</td>\n",
       "      <td>2</td>\n",
       "      <td>2</td>\n",
       "      <td>3</td>\n",
       "      <td>2</td>\n",
       "      <td>2</td>\n",
       "      <td>3</td>\n",
       "      <td>3</td>\n",
       "      <td>3</td>\n",
       "      <td>3</td>\n",
       "      <td>3</td>\n",
       "    </tr>\n",
       "  </tbody>\n",
       "</table>\n",
       "<p>5 rows × 59 columns</p>\n",
       "</div>"
      ],
      "text/plain": [
       "            MT007544.1  MT012098.1  MT019529.1  MT019530.1  MT019531.1  \\\n",
       "MT007544.1           0          10           6           6           6   \n",
       "MT012098.1          10           0           9           9           9   \n",
       "MT019529.1           6           9           0           2           2   \n",
       "MT019530.1           6           9           2           0           1   \n",
       "MT019531.1           6           9           2           1           0   \n",
       "\n",
       "            MT019532.1  MT019533.1  MT020880.1  MT020881.1  MT039873.1  ...  \\\n",
       "MT007544.1           6           6           5           5           6  ...   \n",
       "MT012098.1           9           9           9           9           9  ...   \n",
       "MT019529.1           2           2           5           5           3  ...   \n",
       "MT019530.1           1           2           5           5           3  ...   \n",
       "MT019531.1           1           2           5           5           3  ...   \n",
       "\n",
       "            MT291826.1  MT291827.1  MT291828.1  MT291829.1  MT291830.1  \\\n",
       "MT007544.1           6           6           7           6           6   \n",
       "MT012098.1           9           9          10           9           9   \n",
       "MT019529.1           3           3           4           3           3   \n",
       "MT019530.1           2           2           3           2           2   \n",
       "MT019531.1           2           2           3           2           2   \n",
       "\n",
       "            MT291831.1  MT291832.1  MT291833.1  MT291834.1  MT291835.1  \n",
       "MT007544.1           6           5           6           6           6  \n",
       "MT012098.1           9           9           9           9           8  \n",
       "MT019529.1           3           3           3           3           3  \n",
       "MT019530.1           3           3           3           3           3  \n",
       "MT019531.1           3           3           3           3           3  \n",
       "\n",
       "[5 rows x 59 columns]"
      ]
     },
     "execution_count": 321,
     "metadata": {},
     "output_type": "execute_result"
    }
   ],
   "source": [
    "distances = {}\n",
    "for i,seqid1 in enumerate(subset_seqs):\n",
    "    distances[seqid1,seqid1]=0\n",
    "    for j in range(i+1,len(subset_seqs)):\n",
    "        seqid2 = subset_seqs[j]\n",
    "        distances[seqid1,seqid2] = get_distance(position_table.loc[seqid1], position_table.loc[seqid2])\n",
    "        distances[seqid2,seqid1] = distances[seqid1,seqid2]\n",
    "distances = pd.Series(distances).unstack()\n",
    "distances.head()"
   ]
  },
  {
   "cell_type": "markdown",
   "metadata": {},
   "source": [
    "## Select colors for each country"
   ]
  },
  {
   "cell_type": "markdown",
   "metadata": {},
   "source": [
    "I knew that I would want to visualize my results, so I assigned a color to each of the countries in my subset of genomes."
   ]
  },
  {
   "cell_type": "code",
   "execution_count": 428,
   "metadata": {},
   "outputs": [
    {
     "data": {
      "text/plain": [
       "array(['Australia', 'China', 'USA', 'South Korea', 'Nepal', 'India',\n",
       "       'Taiwan', 'Viet Nam'], dtype=object)"
      ]
     },
     "execution_count": 428,
     "metadata": {},
     "output_type": "execute_result"
    }
   ],
   "source": [
    "countries = position_table.loc[subset_seqs][\"country\"].unique()\n",
    "countries"
   ]
  },
  {
   "cell_type": "code",
   "execution_count": 429,
   "metadata": {},
   "outputs": [],
   "source": [
    "country_to_color = {}"
   ]
  },
  {
   "cell_type": "code",
   "execution_count": 430,
   "metadata": {},
   "outputs": [
    {
     "data": {
      "text/plain": [
       "['red',\n",
       " 'yellow',\n",
       " 'green',\n",
       " 'cyan',\n",
       " 'blue',\n",
       " 'magenta',\n",
       " 'black',\n",
       " 'maroon',\n",
       " 'olive',\n",
       " 'lime',\n",
       " 'aqua',\n",
       " 'teal',\n",
       " 'navy',\n",
       " 'fuchsia',\n",
       " 'purple',\n",
       " 'silver',\n",
       " 'gray',\n",
       " 'pink',\n",
       " 'salmon',\n",
       " 'orange',\n",
       " 'gold',\n",
       " 'tan',\n",
       " 'brown']"
      ]
     },
     "execution_count": 430,
     "metadata": {},
     "output_type": "execute_result"
    }
   ],
   "source": [
    "all_colors = [color for color in Phylo.BaseTree.BranchColor.color_names\n",
    "              if len(color) > 1 and color not in [\"white\", \"grey\"]]\n",
    "all_colors"
   ]
  },
  {
   "cell_type": "code",
   "execution_count": 435,
   "metadata": {},
   "outputs": [],
   "source": [
    "#colors = random.sample(all_colors, len(countries))"
   ]
  },
  {
   "cell_type": "code",
   "execution_count": 437,
   "metadata": {},
   "outputs": [],
   "source": [
    "colors = all_colors[:len(countries)]"
   ]
  },
  {
   "cell_type": "code",
   "execution_count": 438,
   "metadata": {},
   "outputs": [],
   "source": [
    "for country, color in zip(countries, colors):\n",
    "    country_to_color[country] = color"
   ]
  },
  {
   "cell_type": "code",
   "execution_count": 439,
   "metadata": {},
   "outputs": [
    {
     "data": {
      "text/plain": [
       "{'Australia': 'red',\n",
       " 'China': 'yellow',\n",
       " 'USA': 'green',\n",
       " 'South Korea': 'cyan',\n",
       " 'Nepal': 'blue',\n",
       " 'India': 'magenta',\n",
       " 'Taiwan': 'black',\n",
       " 'Viet Nam': 'maroon'}"
      ]
     },
     "execution_count": 439,
     "metadata": {},
     "output_type": "execute_result"
    }
   ],
   "source": [
    "country_to_color"
   ]
  },
  {
   "cell_type": "markdown",
   "metadata": {},
   "source": [
    "I also made a legend for my graph at the end."
   ]
  },
  {
   "cell_type": "code",
   "execution_count": 440,
   "metadata": {},
   "outputs": [],
   "source": [
    "patches = []\n",
    "\n",
    "for country in country_to_color:\n",
    "    patch = mpatches.Patch(color=country_to_color[country], label=country)\n",
    "    patches.append(patch)"
   ]
  },
  {
   "cell_type": "code",
   "execution_count": null,
   "metadata": {},
   "outputs": [],
   "source": []
  },
  {
   "cell_type": "markdown",
   "metadata": {},
   "source": [
    "## Use Biopython to construct a phylogenetic tree"
   ]
  },
  {
   "cell_type": "markdown",
   "metadata": {},
   "source": [
    "Finally, I used Biopython to contruct a phylogenetic tree from my distance matrix"
   ]
  },
  {
   "cell_type": "code",
   "execution_count": 441,
   "metadata": {},
   "outputs": [],
   "source": [
    "matrix = np.tril(distances.values).tolist()\n",
    "for i in range(len(matrix)):\n",
    "    matrix[i] = matrix[i][:i+1]\n",
    "distance_matrix = DistanceMatrix(list(distances.index), matrix)"
   ]
  },
  {
   "cell_type": "code",
   "execution_count": 442,
   "metadata": {},
   "outputs": [],
   "source": [
    "tree_constructor = DistanceTreeConstructor()"
   ]
  },
  {
   "cell_type": "markdown",
   "metadata": {},
   "source": [
    "#### Neighbor Joining tree"
   ]
  },
  {
   "cell_type": "markdown",
   "metadata": {},
   "source": [
    "I tried out a Neighbor Joining tree and an Upgma tree, and the Neighbor Joining tree worked better in the end."
   ]
  },
  {
   "cell_type": "code",
   "execution_count": 443,
   "metadata": {},
   "outputs": [],
   "source": [
    "nj_tree = tree_constructor.nj(distance_matrix)"
   ]
  },
  {
   "cell_type": "code",
   "execution_count": 444,
   "metadata": {},
   "outputs": [],
   "source": [
    "nj_tree.ladderize()"
   ]
  },
  {
   "cell_type": "code",
   "execution_count": 445,
   "metadata": {},
   "outputs": [],
   "source": [
    "for clade in nj_tree.get_terminals():\n",
    "    country = get_country(clade.name.split(\".\")[0])\n",
    "    clade.color = country_to_color[country]"
   ]
  },
  {
   "cell_type": "code",
   "execution_count": 446,
   "metadata": {},
   "outputs": [
    {
     "data": {
      "image/png": "[encoded data removed]",
      "text/plain": [
       "<Figure size 1080x1080 with 1 Axes>"
      ]
     },
     "metadata": {
      "needs_background": "light"
     },
     "output_type": "display_data"
    }
   ],
   "source": [
    "fig = plt.figure(figsize=(15, 15))\n",
    "axes = fig.add_subplot(1, 1, 1)\n",
    "plt.legend(handles=patches)\n",
    "Phylo.draw(nj_tree, axes=axes)"
   ]
  },
  {
   "cell_type": "markdown",
   "metadata": {},
   "source": [
    "My final tree indicates that the virus started in China (as most people agree).  One offshoot seemed to send the virus to the rest of the world - South Korea, India, Nepal, and the US.  The first known cases in the US are more closely related the the first case in Nepal.  Perhaps this could be used to better inform who first brought the virus here."
   ]
  },
  {
   "cell_type": "code",
   "execution_count": null,
   "metadata": {},
   "outputs": [],
   "source": []
  },
  {
   "cell_type": "code",
   "execution_count": null,
   "metadata": {},
   "outputs": [],
   "source": []
  },
  {
   "cell_type": "code",
   "execution_count": null,
   "metadata": {},
   "outputs": [],
   "source": []
  },
  {
   "cell_type": "code",
   "execution_count": null,
   "metadata": {},
   "outputs": [],
   "source": []
  },
  {
   "cell_type": "code",
   "execution_count": null,
   "metadata": {},
   "outputs": [],
   "source": []
  }
 ],
 "metadata": {
  "kernelspec": {
   "display_name": "Python 3",
   "language": "python",
   "name": "python3"
  },
  "language_info": {
   "codemirror_mode": {
    "name": "ipython",
    "version": 3
   },
   "file_extension": ".py",
   "mimetype": "text/x-python",
   "name": "python",
   "nbconvert_exporter": "python",
   "pygments_lexer": "ipython3",
   "version": "3.7.6"
  }
 },
 "nbformat": 4,
 "nbformat_minor": 4
}
