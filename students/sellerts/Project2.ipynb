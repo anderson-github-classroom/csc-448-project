{
 "cells": [
  {
   "cell_type": "markdown",
   "metadata": {},
   "source": [
    "## Project 2"
   ]
  },
  {
   "cell_type": "markdown",
   "metadata": {},
   "source": [
    "For my analysis, I kept it simple, and decided to dive further into the given alignment data. \n",
    "Specifically, I analyzed four sets of aligned sequences, in decreasing order of distance to the \n",
    "concensus sequence.\n"
   ]
  },
  {
   "cell_type": "markdown",
   "metadata": {},
   "source": [
    "### Imports"
   ]
  },
  {
   "cell_type": "code",
   "execution_count": 68,
   "metadata": {},
   "outputs": [
    {
     "name": "stdout",
     "output_type": "stream",
     "text": [
      "Requirement already satisfied: biopython in c:\\users\\samue\\anaconda3\\lib\\site-packages (1.76)\n",
      "Requirement already satisfied: numpy in c:\\users\\samue\\anaconda3\\lib\\site-packages (from biopython) (1.18.1)\n"
     ]
    }
   ],
   "source": [
    "!pip install biopython\n",
    "import numpy as np\n",
    "from Bio.Phylo.TreeConstruction import DistanceMatrix\n",
    "from Bio.Phylo.TreeConstruction import DistanceTreeConstructor\n",
    "from Bio import Phylo\n",
    "import pandas as pd"
   ]
  },
  {
   "cell_type": "markdown",
   "metadata": {},
   "source": [
    "### Loading the given data from the position table"
   ]
  },
  {
   "cell_type": "code",
   "execution_count": 66,
   "metadata": {},
   "outputs": [],
   "source": [
    "position_table = pd.read_csv('../../data/position_table.csv')"
   ]
  },
  {
   "cell_type": "code",
   "execution_count": 39,
   "metadata": {},
   "outputs": [
    {
     "data": {
      "text/html": [
       "<div>\n",
       "<style scoped>\n",
       "    .dataframe tbody tr th:only-of-type {\n",
       "        vertical-align: middle;\n",
       "    }\n",
       "\n",
       "    .dataframe tbody tr th {\n",
       "        vertical-align: top;\n",
       "    }\n",
       "\n",
       "    .dataframe thead th {\n",
       "        text-align: right;\n",
       "    }\n",
       "</style>\n",
       "<table border=\"1\" class=\"dataframe\">\n",
       "  <thead>\n",
       "    <tr style=\"text-align: right;\">\n",
       "      <th></th>\n",
       "      <th>seqid</th>\n",
       "      <th>S_1_1</th>\n",
       "      <th>S_1_2</th>\n",
       "      <th>S_1_3</th>\n",
       "      <th>S_2_1</th>\n",
       "      <th>S_2_2</th>\n",
       "      <th>S_2_3</th>\n",
       "      <th>S_3_1</th>\n",
       "      <th>S_3_2</th>\n",
       "      <th>S_3_3</th>\n",
       "      <th>...</th>\n",
       "      <th>S_1270_3</th>\n",
       "      <th>S_1271_1</th>\n",
       "      <th>S_1271_2</th>\n",
       "      <th>S_1271_3</th>\n",
       "      <th>S_1272_1</th>\n",
       "      <th>S_1272_2</th>\n",
       "      <th>S_1272_3</th>\n",
       "      <th>S_1273_1</th>\n",
       "      <th>S_1273_2</th>\n",
       "      <th>S_1273_3</th>\n",
       "    </tr>\n",
       "  </thead>\n",
       "  <tbody>\n",
       "    <tr>\n",
       "      <th>count</th>\n",
       "      <td>677</td>\n",
       "      <td>677</td>\n",
       "      <td>677</td>\n",
       "      <td>677</td>\n",
       "      <td>677</td>\n",
       "      <td>677</td>\n",
       "      <td>677</td>\n",
       "      <td>677</td>\n",
       "      <td>677</td>\n",
       "      <td>677</td>\n",
       "      <td>...</td>\n",
       "      <td>677</td>\n",
       "      <td>677</td>\n",
       "      <td>677</td>\n",
       "      <td>677</td>\n",
       "      <td>677</td>\n",
       "      <td>677</td>\n",
       "      <td>677</td>\n",
       "      <td>677</td>\n",
       "      <td>677</td>\n",
       "      <td>677</td>\n",
       "    </tr>\n",
       "    <tr>\n",
       "      <th>unique</th>\n",
       "      <td>677</td>\n",
       "      <td>1</td>\n",
       "      <td>1</td>\n",
       "      <td>1</td>\n",
       "      <td>1</td>\n",
       "      <td>1</td>\n",
       "      <td>1</td>\n",
       "      <td>1</td>\n",
       "      <td>1</td>\n",
       "      <td>1</td>\n",
       "      <td>...</td>\n",
       "      <td>1</td>\n",
       "      <td>1</td>\n",
       "      <td>1</td>\n",
       "      <td>1</td>\n",
       "      <td>1</td>\n",
       "      <td>1</td>\n",
       "      <td>1</td>\n",
       "      <td>1</td>\n",
       "      <td>1</td>\n",
       "      <td>1</td>\n",
       "    </tr>\n",
       "    <tr>\n",
       "      <th>top</th>\n",
       "      <td>MT019531.1</td>\n",
       "      <td>A</td>\n",
       "      <td>T</td>\n",
       "      <td>G</td>\n",
       "      <td>T</td>\n",
       "      <td>T</td>\n",
       "      <td>T</td>\n",
       "      <td>G</td>\n",
       "      <td>T</td>\n",
       "      <td>T</td>\n",
       "      <td>...</td>\n",
       "      <td>A</td>\n",
       "      <td>C</td>\n",
       "      <td>A</td>\n",
       "      <td>T</td>\n",
       "      <td>T</td>\n",
       "      <td>A</td>\n",
       "      <td>C</td>\n",
       "      <td>A</td>\n",
       "      <td>C</td>\n",
       "      <td>A</td>\n",
       "    </tr>\n",
       "    <tr>\n",
       "      <th>freq</th>\n",
       "      <td>1</td>\n",
       "      <td>677</td>\n",
       "      <td>677</td>\n",
       "      <td>677</td>\n",
       "      <td>677</td>\n",
       "      <td>677</td>\n",
       "      <td>677</td>\n",
       "      <td>677</td>\n",
       "      <td>677</td>\n",
       "      <td>677</td>\n",
       "      <td>...</td>\n",
       "      <td>677</td>\n",
       "      <td>677</td>\n",
       "      <td>677</td>\n",
       "      <td>677</td>\n",
       "      <td>677</td>\n",
       "      <td>677</td>\n",
       "      <td>677</td>\n",
       "      <td>677</td>\n",
       "      <td>677</td>\n",
       "      <td>677</td>\n",
       "    </tr>\n",
       "  </tbody>\n",
       "</table>\n",
       "<p>4 rows × 3820 columns</p>\n",
       "</div>"
      ],
      "text/plain": [
       "             seqid S_1_1 S_1_2 S_1_3 S_2_1 S_2_2 S_2_3 S_3_1 S_3_2 S_3_3  ...  \\\n",
       "count          677   677   677   677   677   677   677   677   677   677  ...   \n",
       "unique         677     1     1     1     1     1     1     1     1     1  ...   \n",
       "top     MT019531.1     A     T     G     T     T     T     G     T     T  ...   \n",
       "freq             1   677   677   677   677   677   677   677   677   677  ...   \n",
       "\n",
       "       S_1270_3 S_1271_1 S_1271_2 S_1271_3 S_1272_1 S_1272_2 S_1272_3  \\\n",
       "count       677      677      677      677      677      677      677   \n",
       "unique        1        1        1        1        1        1        1   \n",
       "top           A        C        A        T        T        A        C   \n",
       "freq        677      677      677      677      677      677      677   \n",
       "\n",
       "       S_1273_1 S_1273_2 S_1273_3  \n",
       "count       677      677      677  \n",
       "unique        1        1        1  \n",
       "top           A        C        A  \n",
       "freq        677      677      677  \n",
       "\n",
       "[4 rows x 3820 columns]"
      ]
     },
     "execution_count": 39,
     "metadata": {},
     "output_type": "execute_result"
    }
   ],
   "source": [
    "results = position_table.describe()\n",
    "results"
   ]
  },
  {
   "cell_type": "code",
   "execution_count": 40,
   "metadata": {},
   "outputs": [
    {
     "data": {
      "text/html": [
       "<div>\n",
       "<style scoped>\n",
       "    .dataframe tbody tr th:only-of-type {\n",
       "        vertical-align: middle;\n",
       "    }\n",
       "\n",
       "    .dataframe tbody tr th {\n",
       "        vertical-align: top;\n",
       "    }\n",
       "\n",
       "    .dataframe thead th {\n",
       "        text-align: right;\n",
       "    }\n",
       "</style>\n",
       "<table border=\"1\" class=\"dataframe\">\n",
       "  <thead>\n",
       "    <tr style=\"text-align: right;\">\n",
       "      <th></th>\n",
       "      <th>seqid</th>\n",
       "      <th>S_1_1</th>\n",
       "      <th>S_1_2</th>\n",
       "      <th>S_1_3</th>\n",
       "      <th>S_2_1</th>\n",
       "      <th>S_2_2</th>\n",
       "      <th>S_2_3</th>\n",
       "      <th>S_3_1</th>\n",
       "      <th>S_3_2</th>\n",
       "      <th>S_3_3</th>\n",
       "      <th>...</th>\n",
       "      <th>S_1270_3</th>\n",
       "      <th>S_1271_1</th>\n",
       "      <th>S_1271_2</th>\n",
       "      <th>S_1271_3</th>\n",
       "      <th>S_1272_1</th>\n",
       "      <th>S_1272_2</th>\n",
       "      <th>S_1272_3</th>\n",
       "      <th>S_1273_1</th>\n",
       "      <th>S_1273_2</th>\n",
       "      <th>S_1273_3</th>\n",
       "    </tr>\n",
       "  </thead>\n",
       "  <tbody>\n",
       "    <tr>\n",
       "      <th>0</th>\n",
       "      <td>MT007544.1</td>\n",
       "      <td>A</td>\n",
       "      <td>T</td>\n",
       "      <td>G</td>\n",
       "      <td>T</td>\n",
       "      <td>T</td>\n",
       "      <td>T</td>\n",
       "      <td>G</td>\n",
       "      <td>T</td>\n",
       "      <td>T</td>\n",
       "      <td>...</td>\n",
       "      <td>A</td>\n",
       "      <td>C</td>\n",
       "      <td>A</td>\n",
       "      <td>T</td>\n",
       "      <td>T</td>\n",
       "      <td>A</td>\n",
       "      <td>C</td>\n",
       "      <td>A</td>\n",
       "      <td>C</td>\n",
       "      <td>A</td>\n",
       "    </tr>\n",
       "    <tr>\n",
       "      <th>1</th>\n",
       "      <td>MT019529.1</td>\n",
       "      <td>A</td>\n",
       "      <td>T</td>\n",
       "      <td>G</td>\n",
       "      <td>T</td>\n",
       "      <td>T</td>\n",
       "      <td>T</td>\n",
       "      <td>G</td>\n",
       "      <td>T</td>\n",
       "      <td>T</td>\n",
       "      <td>...</td>\n",
       "      <td>A</td>\n",
       "      <td>C</td>\n",
       "      <td>A</td>\n",
       "      <td>T</td>\n",
       "      <td>T</td>\n",
       "      <td>A</td>\n",
       "      <td>C</td>\n",
       "      <td>A</td>\n",
       "      <td>C</td>\n",
       "      <td>A</td>\n",
       "    </tr>\n",
       "    <tr>\n",
       "      <th>2</th>\n",
       "      <td>MT019530.1</td>\n",
       "      <td>A</td>\n",
       "      <td>T</td>\n",
       "      <td>G</td>\n",
       "      <td>T</td>\n",
       "      <td>T</td>\n",
       "      <td>T</td>\n",
       "      <td>G</td>\n",
       "      <td>T</td>\n",
       "      <td>T</td>\n",
       "      <td>...</td>\n",
       "      <td>A</td>\n",
       "      <td>C</td>\n",
       "      <td>A</td>\n",
       "      <td>T</td>\n",
       "      <td>T</td>\n",
       "      <td>A</td>\n",
       "      <td>C</td>\n",
       "      <td>A</td>\n",
       "      <td>C</td>\n",
       "      <td>A</td>\n",
       "    </tr>\n",
       "    <tr>\n",
       "      <th>3</th>\n",
       "      <td>MT019531.1</td>\n",
       "      <td>A</td>\n",
       "      <td>T</td>\n",
       "      <td>G</td>\n",
       "      <td>T</td>\n",
       "      <td>T</td>\n",
       "      <td>T</td>\n",
       "      <td>G</td>\n",
       "      <td>T</td>\n",
       "      <td>T</td>\n",
       "      <td>...</td>\n",
       "      <td>A</td>\n",
       "      <td>C</td>\n",
       "      <td>A</td>\n",
       "      <td>T</td>\n",
       "      <td>T</td>\n",
       "      <td>A</td>\n",
       "      <td>C</td>\n",
       "      <td>A</td>\n",
       "      <td>C</td>\n",
       "      <td>A</td>\n",
       "    </tr>\n",
       "    <tr>\n",
       "      <th>4</th>\n",
       "      <td>MT019532.1</td>\n",
       "      <td>A</td>\n",
       "      <td>T</td>\n",
       "      <td>G</td>\n",
       "      <td>T</td>\n",
       "      <td>T</td>\n",
       "      <td>T</td>\n",
       "      <td>G</td>\n",
       "      <td>T</td>\n",
       "      <td>T</td>\n",
       "      <td>...</td>\n",
       "      <td>A</td>\n",
       "      <td>C</td>\n",
       "      <td>A</td>\n",
       "      <td>T</td>\n",
       "      <td>T</td>\n",
       "      <td>A</td>\n",
       "      <td>C</td>\n",
       "      <td>A</td>\n",
       "      <td>C</td>\n",
       "      <td>A</td>\n",
       "    </tr>\n",
       "    <tr>\n",
       "      <th>...</th>\n",
       "      <td>...</td>\n",
       "      <td>...</td>\n",
       "      <td>...</td>\n",
       "      <td>...</td>\n",
       "      <td>...</td>\n",
       "      <td>...</td>\n",
       "      <td>...</td>\n",
       "      <td>...</td>\n",
       "      <td>...</td>\n",
       "      <td>...</td>\n",
       "      <td>...</td>\n",
       "      <td>...</td>\n",
       "      <td>...</td>\n",
       "      <td>...</td>\n",
       "      <td>...</td>\n",
       "      <td>...</td>\n",
       "      <td>...</td>\n",
       "      <td>...</td>\n",
       "      <td>...</td>\n",
       "      <td>...</td>\n",
       "      <td>...</td>\n",
       "    </tr>\n",
       "    <tr>\n",
       "      <th>672</th>\n",
       "      <td>MT334544.1</td>\n",
       "      <td>A</td>\n",
       "      <td>T</td>\n",
       "      <td>G</td>\n",
       "      <td>T</td>\n",
       "      <td>T</td>\n",
       "      <td>T</td>\n",
       "      <td>G</td>\n",
       "      <td>T</td>\n",
       "      <td>T</td>\n",
       "      <td>...</td>\n",
       "      <td>A</td>\n",
       "      <td>C</td>\n",
       "      <td>A</td>\n",
       "      <td>T</td>\n",
       "      <td>T</td>\n",
       "      <td>A</td>\n",
       "      <td>C</td>\n",
       "      <td>A</td>\n",
       "      <td>C</td>\n",
       "      <td>A</td>\n",
       "    </tr>\n",
       "    <tr>\n",
       "      <th>673</th>\n",
       "      <td>MT334546.1</td>\n",
       "      <td>A</td>\n",
       "      <td>T</td>\n",
       "      <td>G</td>\n",
       "      <td>T</td>\n",
       "      <td>T</td>\n",
       "      <td>T</td>\n",
       "      <td>G</td>\n",
       "      <td>T</td>\n",
       "      <td>T</td>\n",
       "      <td>...</td>\n",
       "      <td>A</td>\n",
       "      <td>C</td>\n",
       "      <td>A</td>\n",
       "      <td>T</td>\n",
       "      <td>T</td>\n",
       "      <td>A</td>\n",
       "      <td>C</td>\n",
       "      <td>A</td>\n",
       "      <td>C</td>\n",
       "      <td>A</td>\n",
       "    </tr>\n",
       "    <tr>\n",
       "      <th>674</th>\n",
       "      <td>MT334547.1</td>\n",
       "      <td>A</td>\n",
       "      <td>T</td>\n",
       "      <td>G</td>\n",
       "      <td>T</td>\n",
       "      <td>T</td>\n",
       "      <td>T</td>\n",
       "      <td>G</td>\n",
       "      <td>T</td>\n",
       "      <td>T</td>\n",
       "      <td>...</td>\n",
       "      <td>A</td>\n",
       "      <td>C</td>\n",
       "      <td>A</td>\n",
       "      <td>T</td>\n",
       "      <td>T</td>\n",
       "      <td>A</td>\n",
       "      <td>C</td>\n",
       "      <td>A</td>\n",
       "      <td>C</td>\n",
       "      <td>A</td>\n",
       "    </tr>\n",
       "    <tr>\n",
       "      <th>675</th>\n",
       "      <td>MT334557.1</td>\n",
       "      <td>A</td>\n",
       "      <td>T</td>\n",
       "      <td>G</td>\n",
       "      <td>T</td>\n",
       "      <td>T</td>\n",
       "      <td>T</td>\n",
       "      <td>G</td>\n",
       "      <td>T</td>\n",
       "      <td>T</td>\n",
       "      <td>...</td>\n",
       "      <td>A</td>\n",
       "      <td>C</td>\n",
       "      <td>A</td>\n",
       "      <td>T</td>\n",
       "      <td>T</td>\n",
       "      <td>A</td>\n",
       "      <td>C</td>\n",
       "      <td>A</td>\n",
       "      <td>C</td>\n",
       "      <td>A</td>\n",
       "    </tr>\n",
       "    <tr>\n",
       "      <th>676</th>\n",
       "      <td>MT334561.1</td>\n",
       "      <td>A</td>\n",
       "      <td>T</td>\n",
       "      <td>G</td>\n",
       "      <td>T</td>\n",
       "      <td>T</td>\n",
       "      <td>T</td>\n",
       "      <td>G</td>\n",
       "      <td>T</td>\n",
       "      <td>T</td>\n",
       "      <td>...</td>\n",
       "      <td>A</td>\n",
       "      <td>C</td>\n",
       "      <td>A</td>\n",
       "      <td>T</td>\n",
       "      <td>T</td>\n",
       "      <td>A</td>\n",
       "      <td>C</td>\n",
       "      <td>A</td>\n",
       "      <td>C</td>\n",
       "      <td>A</td>\n",
       "    </tr>\n",
       "  </tbody>\n",
       "</table>\n",
       "<p>677 rows × 3820 columns</p>\n",
       "</div>"
      ],
      "text/plain": [
       "          seqid S_1_1 S_1_2 S_1_3 S_2_1 S_2_2 S_2_3 S_3_1 S_3_2 S_3_3  ...  \\\n",
       "0    MT007544.1     A     T     G     T     T     T     G     T     T  ...   \n",
       "1    MT019529.1     A     T     G     T     T     T     G     T     T  ...   \n",
       "2    MT019530.1     A     T     G     T     T     T     G     T     T  ...   \n",
       "3    MT019531.1     A     T     G     T     T     T     G     T     T  ...   \n",
       "4    MT019532.1     A     T     G     T     T     T     G     T     T  ...   \n",
       "..          ...   ...   ...   ...   ...   ...   ...   ...   ...   ...  ...   \n",
       "672  MT334544.1     A     T     G     T     T     T     G     T     T  ...   \n",
       "673  MT334546.1     A     T     G     T     T     T     G     T     T  ...   \n",
       "674  MT334547.1     A     T     G     T     T     T     G     T     T  ...   \n",
       "675  MT334557.1     A     T     G     T     T     T     G     T     T  ...   \n",
       "676  MT334561.1     A     T     G     T     T     T     G     T     T  ...   \n",
       "\n",
       "    S_1270_3 S_1271_1 S_1271_2 S_1271_3 S_1272_1 S_1272_2 S_1272_3 S_1273_1  \\\n",
       "0          A        C        A        T        T        A        C        A   \n",
       "1          A        C        A        T        T        A        C        A   \n",
       "2          A        C        A        T        T        A        C        A   \n",
       "3          A        C        A        T        T        A        C        A   \n",
       "4          A        C        A        T        T        A        C        A   \n",
       "..       ...      ...      ...      ...      ...      ...      ...      ...   \n",
       "672        A        C        A        T        T        A        C        A   \n",
       "673        A        C        A        T        T        A        C        A   \n",
       "674        A        C        A        T        T        A        C        A   \n",
       "675        A        C        A        T        T        A        C        A   \n",
       "676        A        C        A        T        T        A        C        A   \n",
       "\n",
       "    S_1273_2 S_1273_3  \n",
       "0          C        A  \n",
       "1          C        A  \n",
       "2          C        A  \n",
       "3          C        A  \n",
       "4          C        A  \n",
       "..       ...      ...  \n",
       "672        C        A  \n",
       "673        C        A  \n",
       "674        C        A  \n",
       "675        C        A  \n",
       "676        C        A  \n",
       "\n",
       "[677 rows x 3820 columns]"
      ]
     },
     "execution_count": 40,
     "metadata": {},
     "output_type": "execute_result"
    }
   ],
   "source": [
    "position_table"
   ]
  },
  {
   "cell_type": "markdown",
   "metadata": {},
   "source": [
    "### Pull out the concensus sequence"
   ]
  },
  {
   "cell_type": "code",
   "execution_count": 41,
   "metadata": {},
   "outputs": [
    {
     "data": {
      "text/plain": [
       "S_1_1       A\n",
       "S_1_2       T\n",
       "S_1_3       G\n",
       "S_2_1       T\n",
       "S_2_2       T\n",
       "           ..\n",
       "S_1272_2    A\n",
       "S_1272_3    C\n",
       "S_1273_1    A\n",
       "S_1273_2    C\n",
       "S_1273_3    A\n",
       "Name: 0, Length: 3819, dtype: object"
      ]
     },
     "execution_count": 41,
     "metadata": {},
     "output_type": "execute_result"
    }
   ],
   "source": [
    "concensus_seq = position_table.drop('seqid',axis=1).mode(axis=0).T[0]\n",
    "concensus_seq"
   ]
  },
  {
   "cell_type": "code",
   "execution_count": 42,
   "metadata": {},
   "outputs": [],
   "source": [
    "position_table = position_table.set_index('seqid')"
   ]
  },
  {
   "cell_type": "markdown",
   "metadata": {},
   "source": [
    "### Determine which samples are farthest from the concensus sequence"
   ]
  },
  {
   "cell_type": "code",
   "execution_count": 50,
   "metadata": {},
   "outputs": [
    {
     "data": {
      "text/plain": [
       "seqid\n",
       "MT233522.1    82\n",
       "MT308696.1    71\n",
       "MT308694.1    53\n",
       "MT263453.1    48\n",
       "MT259284.1    33\n",
       "              ..\n",
       "MT326081.1     0\n",
       "MT263395.1     0\n",
       "MT263396.1     0\n",
       "MT263398.1     0\n",
       "MT262916.1     0\n",
       "Length: 677, dtype: int64"
      ]
     },
     "execution_count": 50,
     "metadata": {},
     "output_type": "execute_result"
    }
   ],
   "source": [
    "distance_from_concensus_seq = position_table.apply(lambda row: sum(row != concensus_seq),axis=1)\n",
    "distance_from_concensus_seq_sorted = distance_from_concensus_seq.sort_values(ascending=False)\n",
    "distance_from_concensus_seq_sorted"
   ]
  },
  {
   "cell_type": "markdown",
   "metadata": {},
   "source": [
    "### Select Sets of sequences"
   ]
  },
  {
   "cell_type": "markdown",
   "metadata": {},
   "source": [
    "Here I break from the outline, and I pull out four sets of distance data from the sorted list.\n",
    "All the following analysis will be in order of decreasing distance from the concensus sequence, since\n",
    "that is how the data is sorted.\n",
    "\n",
    "I also decided to look at the data in groups of eight instead of ten, since that will allow us to see the graphs better"
   ]
  },
  {
   "cell_type": "code",
   "execution_count": 70,
   "metadata": {},
   "outputs": [
    {
     "data": {
      "text/plain": [
       "[Index(['MT233522.1', 'MT308696.1', 'MT308694.1', 'MT263453.1', 'MT259284.1',\n",
       "        'MT293180.1', 'MT263436.1', 'MT293224.1'],\n",
       "       dtype='object', name='seqid'),\n",
       " Index(['MT326129.1', 'MT259277.1', 'MT263431.1', 'MT293213.1', 'MT293196.1',\n",
       "        'MT326134.1', 'MT293200.1', 'MT293158.1'],\n",
       "       dtype='object', name='seqid'),\n",
       " Index(['MT246456.1', 'MT293198.1', 'MT326176.1', 'MT320538.1', 'MT322421.1',\n",
       "        'MT334557.1', 'MT322422.1', 'MT012098.1'],\n",
       "       dtype='object', name='seqid'),\n",
       " Index(['MT325596.1', 'MT322423.1', 'MT246482.1', 'MT326090.1', 'MT259249.1',\n",
       "        'MT263384.1', 'MT259281.1', 'MT326092.1'],\n",
       "       dtype='object', name='seqid')]"
      ]
     },
     "execution_count": 70,
     "metadata": {},
     "output_type": "execute_result"
    }
   ],
   "source": [
    "subset_seqs = []\n",
    "for i in range(0, 32, 8):\n",
    "    subset_seqs.append(distance_from_concensus_seq_sorted[i:i + 8].index)\n",
    "subset_seqs"
   ]
  },
  {
   "cell_type": "markdown",
   "metadata": {},
   "source": [
    "### Calculate distances for each set of sequences"
   ]
  },
  {
   "cell_type": "code",
   "execution_count": 55,
   "metadata": {},
   "outputs": [
    {
     "data": {
      "text/plain": [
       "[            MT233522.1  MT259284.1  MT263436.1  MT263453.1  MT293180.1  \\\n",
       " MT233522.1           0         115          90         130         104   \n",
       " MT259284.1         115           0          43          81          47   \n",
       " MT263436.1          90          43           0          58          32   \n",
       " MT263453.1         130          81          58           0          68   \n",
       " MT293180.1         104          47          32          68           0   \n",
       " MT293224.1          90          43           0          58          32   \n",
       " MT308694.1         135          86          63         101          77   \n",
       " MT308696.1         151         104          79         119          93   \n",
       " \n",
       "             MT293224.1  MT308694.1  MT308696.1  \n",
       " MT233522.1          90         135         151  \n",
       " MT259284.1          43          86         104  \n",
       " MT263436.1           0          63          79  \n",
       " MT263453.1          58         101         119  \n",
       " MT293180.1          32          77          93  \n",
       " MT293224.1           0          63          79  \n",
       " MT308694.1          63           0          22  \n",
       " MT308696.1          79          22           0  ,\n",
       "             MT259277.1  MT263431.1  MT293158.1  MT293196.1  MT293200.1  \\\n",
       " MT259277.1           0           0          19           0           1   \n",
       " MT263431.1           0           0          19           0           1   \n",
       " MT293158.1          19          19           0          19          18   \n",
       " MT293196.1           0           0          19           0           1   \n",
       " MT293200.1           1           1          18           1           0   \n",
       " MT293213.1           0           0          19           0           1   \n",
       " MT326129.1           0           0          19           0           1   \n",
       " MT326134.1           1           1          18           1           0   \n",
       " \n",
       "             MT293213.1  MT326129.1  MT326134.1  \n",
       " MT259277.1           0           0           1  \n",
       " MT263431.1           0           0           1  \n",
       " MT293158.1          19          19          18  \n",
       " MT293196.1           0           0           1  \n",
       " MT293200.1           1           1           0  \n",
       " MT293213.1           0           0           1  \n",
       " MT326129.1           0           0           1  \n",
       " MT326134.1           1           1           0  ,\n",
       "             MT012098.1  MT246456.1  MT293198.1  MT320538.1  MT322421.1  \\\n",
       " MT012098.1           0          13          13           9           8   \n",
       " MT246456.1          13           0          18          14          13   \n",
       " MT293198.1          13          18           0          14          13   \n",
       " MT320538.1           9          14          14           0           7   \n",
       " MT322421.1           8          13          13           7           0   \n",
       " MT322422.1           8          13          13           7           0   \n",
       " MT326176.1          12          17          17          13          12   \n",
       " MT334557.1           8          13          13           7           6   \n",
       " \n",
       "             MT322422.1  MT326176.1  MT334557.1  \n",
       " MT012098.1           8          12           8  \n",
       " MT246456.1          13          17          13  \n",
       " MT293198.1          13          17          13  \n",
       " MT320538.1           7          13           7  \n",
       " MT322421.1           0          12           6  \n",
       " MT322422.1           0          12           6  \n",
       " MT326176.1          12           0          12  \n",
       " MT334557.1           6          12           0  ,\n",
       "             MT246482.1  MT259249.1  MT259281.1  MT263384.1  MT322423.1  \\\n",
       " MT246482.1           0           5           5           5           7   \n",
       " MT259249.1           5           0           2           4           4   \n",
       " MT259281.1           5           2           0           4           4   \n",
       " MT263384.1           5           4           4           0           6   \n",
       " MT322423.1           7           4           4           6           0   \n",
       " MT325596.1           7           4           4           6           6   \n",
       " MT326090.1           6           3           3           5           3   \n",
       " MT326092.1           5           2           2           4           4   \n",
       " \n",
       "             MT325596.1  MT326090.1  MT326092.1  \n",
       " MT246482.1           7           6           5  \n",
       " MT259249.1           4           3           2  \n",
       " MT259281.1           4           3           2  \n",
       " MT263384.1           6           5           4  \n",
       " MT322423.1           6           3           4  \n",
       " MT325596.1           0           5           4  \n",
       " MT326090.1           5           0           3  \n",
       " MT326092.1           4           3           0  ]"
      ]
     },
     "execution_count": 55,
     "metadata": {},
     "output_type": "execute_result"
    }
   ],
   "source": [
    "def calc_distances(subset_seqs):\n",
    "    distances = {}\n",
    "    for i,seqid1 in enumerate(subset_seqs):\n",
    "        distances[seqid1,seqid1]=0\n",
    "        for j in range(i+1,len(subset_seqs)):\n",
    "            seqid2 = subset_seqs[j]\n",
    "            distances[seqid1,seqid2] = sum(position_table.loc[seqid1] != position_table.loc[seqid2])\n",
    "            distances[seqid2,seqid1] = distances[seqid1,seqid2]\n",
    "    distances = pd.Series(distances).unstack()\n",
    "    return distances\n",
    "    \n",
    "distance_sets = [calc_distances(sequence) for sequence in subset_seqs]\n",
    "distance_sets"
   ]
  },
  {
   "cell_type": "markdown",
   "metadata": {},
   "source": [
    "As you can see, the distances from the concensus sequence drop off rapidly."
   ]
  },
  {
   "cell_type": "code",
   "execution_count": 71,
   "metadata": {},
   "outputs": [
    {
     "data": {
      "text/plain": [
       "[DistanceMatrix(names=['MT233522.1', 'MT259284.1', 'MT263436.1', 'MT263453.1', 'MT293180.1', 'MT293224.1', 'MT308694.1', 'MT308696.1'], matrix=[[0], [115, 0], [90, 43, 0], [130, 81, 58, 0], [104, 47, 32, 68, 0], [90, 43, 0, 58, 32, 0], [135, 86, 63, 101, 77, 63, 0], [151, 104, 79, 119, 93, 79, 22, 0]]),\n",
       " DistanceMatrix(names=['MT259277.1', 'MT263431.1', 'MT293158.1', 'MT293196.1', 'MT293200.1', 'MT293213.1', 'MT326129.1', 'MT326134.1'], matrix=[[0], [0, 0], [19, 19, 0], [0, 0, 19, 0], [1, 1, 18, 1, 0], [0, 0, 19, 0, 1, 0], [0, 0, 19, 0, 1, 0, 0], [1, 1, 18, 1, 0, 1, 1, 0]]),\n",
       " DistanceMatrix(names=['MT012098.1', 'MT246456.1', 'MT293198.1', 'MT320538.1', 'MT322421.1', 'MT322422.1', 'MT326176.1', 'MT334557.1'], matrix=[[0], [13, 0], [13, 18, 0], [9, 14, 14, 0], [8, 13, 13, 7, 0], [8, 13, 13, 7, 0, 0], [12, 17, 17, 13, 12, 12, 0], [8, 13, 13, 7, 6, 6, 12, 0]]),\n",
       " DistanceMatrix(names=['MT246482.1', 'MT259249.1', 'MT259281.1', 'MT263384.1', 'MT322423.1', 'MT325596.1', 'MT326090.1', 'MT326092.1'], matrix=[[0], [5, 0], [5, 2, 0], [5, 4, 4, 0], [7, 4, 4, 6, 0], [7, 4, 4, 6, 6, 0], [6, 3, 3, 5, 3, 5, 0], [5, 2, 2, 4, 4, 4, 3, 0]])]"
      ]
     },
     "execution_count": 71,
     "metadata": {},
     "output_type": "execute_result"
    }
   ],
   "source": [
    "def create_matrix(distances):\n",
    "    matrix = np.tril(distances.values).tolist()\n",
    "    for i in range(len(matrix)):\n",
    "        matrix[i] = matrix[i][:i+1]\n",
    "    dm = DistanceMatrix(list(distances.index), matrix)\n",
    "    return dm\n",
    "matrixs = [create_matrix(distances) for distances in distance_sets]\n",
    "matrixs"
   ]
  },
  {
   "cell_type": "markdown",
   "metadata": {},
   "source": [
    "### Construct a tree for each distance matrix"
   ]
  },
  {
   "cell_type": "code",
   "execution_count": 63,
   "metadata": {},
   "outputs": [
    {
     "data": {
      "text/plain": [
       "[Tree(rooted=False),\n",
       " Tree(rooted=False),\n",
       " Tree(rooted=False),\n",
       " Tree(rooted=False)]"
      ]
     },
     "execution_count": 63,
     "metadata": {},
     "output_type": "execute_result"
    }
   ],
   "source": [
    "def make_tree(dm):\n",
    "    constructor = DistanceTreeConstructor()\n",
    "    tree = constructor.nj(dm)\n",
    "    return tree\n",
    "\n",
    "trees = [make_tree(dm) for dm in matrixs]\n",
    "trees"
   ]
  },
  {
   "cell_type": "markdown",
   "metadata": {},
   "source": [
    "### Draw a tree for each matrix"
   ]
  },
  {
   "cell_type": "code",
   "execution_count": 73,
   "metadata": {},
   "outputs": [
    {
     "data": {
      "image/png": "[encoded data removed]",
      "text/plain": [
       "<Figure size 432x288 with 1 Axes>"
      ]
     },
     "metadata": {
      "needs_background": "light"
     },
     "output_type": "display_data"
    },
    {
     "data": {
      "image/png": "[encoded data removed]",
      "text/plain": [
       "<Figure size 432x288 with 1 Axes>"
      ]
     },
     "metadata": {
      "needs_background": "light"
     },
     "output_type": "display_data"
    },
    {
     "data": {
      "image/png": "[encoded data removed]",
      "text/plain": [
       "<Figure size 432x288 with 1 Axes>"
      ]
     },
     "metadata": {
      "needs_background": "light"
     },
     "output_type": "display_data"
    },
    {
     "data": {
      "image/png": "[encoded data removed]",
      "text/plain": [
       "<Figure size 432x288 with 1 Axes>"
      ]
     },
     "metadata": {
      "needs_background": "light"
     },
     "output_type": "display_data"
    }
   ],
   "source": [
    "%matplotlib inline\n",
    "\n",
    "def draw_tree(tree):\n",
    "    tree.ladderize()\n",
    "    Phylo.draw(tree)\n",
    "\n",
    "for tree in trees:\n",
    "    draw_tree(tree)"
   ]
  },
  {
   "cell_type": "markdown",
   "metadata": {},
   "source": [
    "This shows us visually that branch length drops off rapidly, with only the first few longest branches being \n",
    "over 50 in length. After that point, branch length stays well below 10, and only continues to decrease."
   ]
  },
  {
   "cell_type": "code",
   "execution_count": null,
   "metadata": {},
   "outputs": [],
   "source": []
  }
 ],
 "metadata": {
  "jupytext": {
   "formats": "ipynb,md,py"
  },
  "kernelspec": {
   "display_name": "Python 3",
   "language": "python",
   "name": "python3"
  },
  "language_info": {
   "codemirror_mode": {
    "name": "ipython",
    "version": 3
   },
   "file_extension": ".py",
   "mimetype": "text/x-python",
   "name": "python",
   "nbconvert_exporter": "python",
   "pygments_lexer": "ipython3",
   "version": "3.7.6"
  }
 },
 "nbformat": 4,
 "nbformat_minor": 4
}
