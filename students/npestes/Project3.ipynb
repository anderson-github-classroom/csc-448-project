{
 "cells": [
  {
   "cell_type": "markdown",
   "metadata": {},
   "source": [
    "Machine Learning for COVID 19\n",
    "\n",
    "https://arxiv.org/pdf/2003.11336.pdf\n",
    "summary of approaches in field. Source for many of the bellow\n",
    "\n",
    "\n",
    "\n",
    "Drug Repurposing:\n",
    "https://www.biorxiv.org/content/10.1101/2020.01.31.929547v1.full\n",
    "Describes the identification and repurposing of poly-ADP-ribose polymerase 1 (PARP1) inhibitor to treat COVID19. Presents hindsight analysis on SARS and MERS, with tested favorable results. The drug targets viral replication. *Very shot* methods section. Says BERT like pre training on 1,000,000,000 SMILES representations. Then presumably using a preexisting molecular bindings database (possibly with locality prediction, though they don't say), to fine-tune the model onto the target problem. BERT (https://arxiv.org/abs/1810.04805) is language modeling by blanking our ~15% of words and predicting the missing words from the remaining words. BERT also implies a self attention model, and lots of training time. Recent advances like ELECTRA(https://github.com/google-research/electra) might cut this from weeks to 4 days(assuming English is as complex as \"protienese\" ... the language of proteins), but it would be a heavy compute load.\n",
    "\n",
    "https://arxiv.org/pdf/1908.06760.pdf\n",
    "Similar to the above, but with *MUCH* better documentation. Has a github (https://github.com/deargen/mt-dti)\n",
    "\n",
    "https://www.researchgate.net/publication/339998830_AI_for_the_repurposing_of_approved_or_investigational_drugs_against_COVID-19\n",
    "Unsupervised learning of gene expression in respect to foreign substances. Look for drugs with similar embeddings to the \"knock out\" mutation of COBP2. Which is believed to be a protein that is coopted by SARS for replication. The list of therapeutics presented matches other recommendations, but I'm not really sure \"why\" this works.\n",
    "\n",
    "\n",
    "\n",
    "Structure Prediction:\n",
    "https://www.journalofinfection.com/article/S0163-4453(20)30107-9/pdf\n",
    "Not ML. sequence and structural similarity to predict binding sites of COVID19 spike protein to GRP78. ESpript 3 was used to cross reference with known coronavirus spike proteins active regions. Might relate to This week's lab? Uses PyMOL with \"structural superposition\" from most similar spike protein to determine folding of protein. HADDOCK was used for docking prediction with significant importing of prior literature. PRODIGY used for binding affinity. At each step the researchers note the cluster used for the task. This is likely beyond our resources to replicate.\n",
    "\n",
    "https://deepmind.com/research/open-source/computational-predictions-of-protein-structures-associated-with-COVID-19\n",
    "Already mentioned this in Project1. Still relevant. I believe it predicts binding affinity matrices and feeds it into some of the algorithms in the above paper.\n",
    "\n",
    "\n",
    "\n",
    "\n",
    "Diagnosis:\n",
    "https://www.medrxiv.org/content/10.1101/2020.03.30.20047456v1.full.pdf\n",
    "transfer convolutional neural network pre-trained on image net to predict the presence of bacterial, non-COVID, and COVID infection from chest X-rays.\n",
    "Applicability limited by access to X-rays, expensive, and non-mobile, medically risky with consistent use. Dataset of ~16k images available. Barely enough for good function without pre-training.\n",
    "\n",
    "\n",
    "\n",
    "\n",
    "Datasets:\n",
    "http://www.pdbbind.org.cn/\n",
    "A dataset of binding affinity for many proteins in the protein data bank. Used in many direct ligand prediction methods.\n",
    "https://www.drugbank.ca/\n",
    "A database of current in production drugs. Used in repurposing research.\n",
    "https://www.ebi.ac.uk/chembl/\n",
    "Another bio molecule affinity database. Hand curated. Not specifically for proteins like pdbbind.\n",
    "https://zinc.docking.org/\n",
    "chemical database. Commercially, purchasable.\n",
    "http://www.lincsproject.org/\n",
    "Gene Expression database. Map biological activity to perturbagens (chemical or genetic reagents that alter intracellular processes).\n",
    "\n",
    "\n",
    "\n",
    "\n",
    "Other:\n",
    "https://link.springer.com/article/10.1186/s13321-019-0404-1\n",
    "Non-covid19 research. Description of an neural method for generating de novo (novel) drugs. The approach uses a graph structure (not SMILES) to ensure chemical validity of target molecules. Further training is performed using a cycle consistency loss (https://junyanz.github.io/CycleGAN/). The data is in the form of drugs matching a property (A) and drugs lacking the property(B). A generator learns to translate from A->B and from B->A well enough to fool a separate discriminator model. The researchers also impose a structural similarity loss to prevent drastic changes. The actual use seems to be adding properties to pre-existing molecules with minimal change. The researchers claim that this can be used along with \"Tanimoto similarity on Morgan Fingerprints\" to generate ligands for target receptors (they use dopamine receptors as an example). My gut reaction is that this is *too complicated* to scale to COVID19 drugs, and more focused on small molecules.\n",
    "\n",
    "https://www.ncbi.nlm.nih.gov/pubmed/29595767\n",
    "I couldn't find the full text of this publication. It seems to focus on small molecules again, using neural nets to prune a Monte Carlo search of molecule synthesis. It attempts to find methods of producing target molecules. It is described as contributing to https://arxiv.org/abs/1907.01417 which performs a search over published research to create a knowledge graph of known molecules that act on structures similar to COVID.\n"
   ]
  }
 ],
 "metadata": {
  "kernelspec": {
   "display_name": "Python 3",
   "language": "python",
   "name": "python3"
  },
  "language_info": {
   "codemirror_mode": {
    "name": "ipython",
    "version": 3
   },
   "file_extension": ".py",
   "mimetype": "text/x-python",
   "name": "python",
   "nbconvert_exporter": "python",
   "pygments_lexer": "ipython3",
   "version": "3.7.6"
  }
 },
 "nbformat": 4,
 "nbformat_minor": 4
}
