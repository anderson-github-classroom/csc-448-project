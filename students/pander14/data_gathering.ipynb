{
 "cells": [
  {
   "cell_type": "markdown",
   "metadata": {},
   "source": [
    "# Data Gathering (COVID-19)\n",
    "\n",
    "The team over at Galaxy has put together a script to collect publically available data. I will be using <a href=\"https://github.com/galaxyproject/SARS-CoV-2\">https://github.com/galaxyproject/SARS-CoV-2</a> to get us started."
   ]
  },
  {
   "cell_type": "code",
   "execution_count": 11,
   "metadata": {},
   "outputs": [],
   "source": [
    "OUTPUT=\"/disk/home/ubuntu/covid19/\" # this needs to be specific to your system"
   ]
  },
  {
   "cell_type": "code",
   "execution_count": 10,
   "metadata": {},
   "outputs": [],
   "source": [
    "%%bash -s \"$OUTPUT\"\n",
    "OUTPUT=$1\n",
    "#mkdir $OUTPUT # commented out when you already have your directory"
   ]
  },
  {
   "cell_type": "markdown",
   "metadata": {},
   "source": [
    "Download the script. Again. This is only necessary once."
   ]
  },
  {
   "cell_type": "code",
   "execution_count": 15,
   "metadata": {},
   "outputs": [
    {
     "name": "stderr",
     "output_type": "stream",
     "text": [
      "Cloning into '/disk/home/ubuntu/covid19//SARS-CoV-2'...\n"
     ]
    }
   ],
   "source": [
    "%%bash -s \"$OUTPUT\"\n",
    "OUTPUT=$1\n",
    "git clone https://github.com/galaxyproject/SARS-CoV-2 $OUTPUT/SARS-CoV-2"
   ]
  },
  {
   "cell_type": "code",
   "execution_count": 19,
   "metadata": {},
   "outputs": [],
   "source": [
    "import pandas as pd"
   ]
  },
  {
   "cell_type": "code",
   "execution_count": 22,
   "metadata": {},
   "outputs": [],
   "source": [
    "var_path = '%s/SARS-CoV-2/genomics/4-Variation/variant_list.tsv'%OUTPUT\n",
    "gb_path = '%s/SARS-CoV-2/genomics/4-Variation/NC_045512.2.genbank'%OUTPUT"
   ]
  },
  {
   "cell_type": "code",
   "execution_count": 23,
   "metadata": {},
   "outputs": [],
   "source": [
    "var  = pd.read_csv(var_path, sep='\\t')"
   ]
  },
  {
   "cell_type": "code",
   "execution_count": 24,
   "metadata": {},
   "outputs": [
    {
     "data": {
      "text/html": [
       "<div>\n",
       "<style scoped>\n",
       "    .dataframe tbody tr th:only-of-type {\n",
       "        vertical-align: middle;\n",
       "    }\n",
       "\n",
       "    .dataframe tbody tr th {\n",
       "        vertical-align: top;\n",
       "    }\n",
       "\n",
       "    .dataframe thead th {\n",
       "        text-align: right;\n",
       "    }\n",
       "</style>\n",
       "<table border=\"1\" class=\"dataframe\">\n",
       "  <thead>\n",
       "    <tr style=\"text-align: right;\">\n",
       "      <th></th>\n",
       "      <th>Sample</th>\n",
       "      <th>CHROM</th>\n",
       "      <th>POS</th>\n",
       "      <th>REF</th>\n",
       "      <th>ALT</th>\n",
       "      <th>DP</th>\n",
       "      <th>AF</th>\n",
       "      <th>SB</th>\n",
       "      <th>DP4</th>\n",
       "      <th>EFF[*].IMPACT</th>\n",
       "      <th>EFF[*].FUNCLASS</th>\n",
       "      <th>EFF[*].EFFECT</th>\n",
       "      <th>EFF[*].GENE</th>\n",
       "      <th>EFF[*].CODON</th>\n",
       "    </tr>\n",
       "  </thead>\n",
       "  <tbody>\n",
       "    <tr>\n",
       "      <td>0</td>\n",
       "      <td>SRR10903401</td>\n",
       "      <td>NC_045512</td>\n",
       "      <td>1409</td>\n",
       "      <td>C</td>\n",
       "      <td>T</td>\n",
       "      <td>126</td>\n",
       "      <td>0.039683</td>\n",
       "      <td>1</td>\n",
       "      <td>67,54,2,3</td>\n",
       "      <td>MODERATE</td>\n",
       "      <td>MISSENSE</td>\n",
       "      <td>NON_SYNONYMOUS_CODING</td>\n",
       "      <td>orf1ab</td>\n",
       "      <td>Cat/Tat</td>\n",
       "    </tr>\n",
       "    <tr>\n",
       "      <td>1</td>\n",
       "      <td>SRR10903401</td>\n",
       "      <td>NC_045512</td>\n",
       "      <td>1821</td>\n",
       "      <td>G</td>\n",
       "      <td>A</td>\n",
       "      <td>93</td>\n",
       "      <td>0.096774</td>\n",
       "      <td>0</td>\n",
       "      <td>48,36,5,4</td>\n",
       "      <td>MODERATE</td>\n",
       "      <td>MISSENSE</td>\n",
       "      <td>NON_SYNONYMOUS_CODING</td>\n",
       "      <td>orf1ab</td>\n",
       "      <td>gGt/gAt</td>\n",
       "    </tr>\n",
       "    <tr>\n",
       "      <td>2</td>\n",
       "      <td>SRR10903401</td>\n",
       "      <td>NC_045512</td>\n",
       "      <td>1895</td>\n",
       "      <td>G</td>\n",
       "      <td>A</td>\n",
       "      <td>106</td>\n",
       "      <td>0.037736</td>\n",
       "      <td>0</td>\n",
       "      <td>51,51,2,2</td>\n",
       "      <td>MODERATE</td>\n",
       "      <td>MISSENSE</td>\n",
       "      <td>NON_SYNONYMOUS_CODING</td>\n",
       "      <td>orf1ab</td>\n",
       "      <td>Gta/Ata</td>\n",
       "    </tr>\n",
       "    <tr>\n",
       "      <td>3</td>\n",
       "      <td>SRR10903401</td>\n",
       "      <td>NC_045512</td>\n",
       "      <td>2407</td>\n",
       "      <td>G</td>\n",
       "      <td>T</td>\n",
       "      <td>123</td>\n",
       "      <td>0.024390</td>\n",
       "      <td>0</td>\n",
       "      <td>57,63,1,2</td>\n",
       "      <td>MODERATE</td>\n",
       "      <td>MISSENSE</td>\n",
       "      <td>NON_SYNONYMOUS_CODING</td>\n",
       "      <td>orf1ab</td>\n",
       "      <td>aaG/aaT</td>\n",
       "    </tr>\n",
       "    <tr>\n",
       "      <td>4</td>\n",
       "      <td>SRR10903401</td>\n",
       "      <td>NC_045512</td>\n",
       "      <td>3379</td>\n",
       "      <td>A</td>\n",
       "      <td>G</td>\n",
       "      <td>121</td>\n",
       "      <td>0.024793</td>\n",
       "      <td>0</td>\n",
       "      <td>56,62,1,2</td>\n",
       "      <td>LOW</td>\n",
       "      <td>SILENT</td>\n",
       "      <td>SYNONYMOUS_CODING</td>\n",
       "      <td>orf1ab</td>\n",
       "      <td>gtA/gtG</td>\n",
       "    </tr>\n",
       "  </tbody>\n",
       "</table>\n",
       "</div>"
      ],
      "text/plain": [
       "        Sample      CHROM   POS REF ALT   DP        AF  SB        DP4  \\\n",
       "0  SRR10903401  NC_045512  1409   C   T  126  0.039683   1  67,54,2,3   \n",
       "1  SRR10903401  NC_045512  1821   G   A   93  0.096774   0  48,36,5,4   \n",
       "2  SRR10903401  NC_045512  1895   G   A  106  0.037736   0  51,51,2,2   \n",
       "3  SRR10903401  NC_045512  2407   G   T  123  0.024390   0  57,63,1,2   \n",
       "4  SRR10903401  NC_045512  3379   A   G  121  0.024793   0  56,62,1,2   \n",
       "\n",
       "  EFF[*].IMPACT EFF[*].FUNCLASS          EFF[*].EFFECT EFF[*].GENE  \\\n",
       "0      MODERATE        MISSENSE  NON_SYNONYMOUS_CODING      orf1ab   \n",
       "1      MODERATE        MISSENSE  NON_SYNONYMOUS_CODING      orf1ab   \n",
       "2      MODERATE        MISSENSE  NON_SYNONYMOUS_CODING      orf1ab   \n",
       "3      MODERATE        MISSENSE  NON_SYNONYMOUS_CODING      orf1ab   \n",
       "4           LOW          SILENT      SYNONYMOUS_CODING      orf1ab   \n",
       "\n",
       "  EFF[*].CODON  \n",
       "0      Cat/Tat  \n",
       "1      gGt/gAt  \n",
       "2      Gta/Ata  \n",
       "3      aaG/aaT  \n",
       "4      gtA/gtG  "
      ]
     },
     "execution_count": 24,
     "metadata": {},
     "output_type": "execute_result"
    }
   ],
   "source": [
    "var.head()"
   ]
  },
  {
   "cell_type": "markdown",
   "metadata": {},
   "source": [
    "**Questions:**\n",
    "1. What is this table telling us?\n",
    "2. How did the Galaxy team create it?"
   ]
  },
  {
   "cell_type": "code",
   "execution_count": null,
   "metadata": {},
   "outputs": [],
   "source": []
  }
 ],
 "metadata": {
  "kernelspec": {
   "display_name": "Python 3",
   "language": "python",
   "name": "python3"
  },
  "language_info": {
   "codemirror_mode": {
    "name": "ipython",
    "version": 3
   },
   "file_extension": ".py",
   "mimetype": "text/x-python",
   "name": "python",
   "nbconvert_exporter": "python",
   "pygments_lexer": "ipython3",
   "version": "3.6.8"
  }
 },
 "nbformat": 4,
 "nbformat_minor": 4
}
