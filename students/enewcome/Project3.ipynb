{
 "cells": [
  {
   "cell_type": "markdown",
   "metadata": {},
   "source": [
    "# Project 3: Evolutionary Tree Analysis, continued\n",
    "\n",
    "This week in the US, nearly 20 states will be partially reopening their businesses, following a trend of eased restrictions by many state governors. Despite many Americans being relieved they're able to return to work, many are still worried that this will cause a second surge of COVID-19 cases in the US.\n",
    "\n",
    "For this week's project, I will be investigating the relationship between COVID-19 cases and reopened states by constructing a USA phylogeny (separated by state) with the most recent data. My goal is to see if there are any consequences for opening early, as measured by new cases of COVID-19. Since many states are just now reopening, the results of this analysis might become more significant over the next few weeks.  "
   ]
  },
  {
   "cell_type": "markdown",
   "metadata": {},
   "source": [
    "## Import data\n",
    "#### YAML Data (contains collection date and locality information)"
   ]
  },
  {
   "cell_type": "code",
   "execution_count": 6,
   "metadata": {},
   "outputs": [],
   "source": [
    "import wget\n",
    "import yaml\n",
    "import numpy as np\n",
    "\n",
    "# Get file\n",
    "yamlURL = 'https://www.ncbi.nlm.nih.gov/core/assets/genbank/files/ncov-sequences.yaml'\n",
    "file = 'ncov-sequences.yaml'\n",
    "wget.download(yamlURL, file)\n",
    "\n",
    "# Read in YAML file\n",
    "with open(file, 'r') as stream:\n",
    "    accession_data = yaml.safe_load(stream)"
   ]
  },
  {
   "cell_type": "markdown",
   "metadata": {},
   "source": [
    "## Read sequences into a table\n",
    "\n",
    "The sequence data in the CSV file was attained using the Virulign software."
   ]
  },
  {
   "cell_type": "code",
   "execution_count": 7,
   "metadata": {},
   "outputs": [],
   "source": [
    "import pandas as pd\n",
    "position_table = pd.read_csv('../../data/position_table.csv') # or put in the path to csc-448-project/data/position_table.csv"
   ]
  },
  {
   "cell_type": "code",
   "execution_count": null,
   "metadata": {},
   "outputs": [],
   "source": []
  }
 ],
 "metadata": {
  "kernelspec": {
   "display_name": "Python 3",
   "language": "python",
   "name": "python3"
  },
  "language_info": {
   "codemirror_mode": {
    "name": "ipython",
    "version": 3
   },
   "file_extension": ".py",
   "mimetype": "text/x-python",
   "name": "python",
   "nbconvert_exporter": "python",
   "pygments_lexer": "ipython3",
   "version": "3.7.6"
  }
 },
 "nbformat": 4,
 "nbformat_minor": 4
}
